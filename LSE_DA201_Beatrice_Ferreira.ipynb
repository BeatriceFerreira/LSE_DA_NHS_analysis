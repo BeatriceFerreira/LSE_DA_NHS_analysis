{
 "cells": [
  {
   "cell_type": "markdown",
   "id": "eb92d5a7",
   "metadata": {},
   "source": [
    "### LSE Data Analytics Online Career Accelerator\n",
    "\n",
    "# Course 2: Data Analytics using Python"
   ]
  },
  {
   "cell_type": "markdown",
   "id": "0ea7e113",
   "metadata": {},
   "source": [
    "## Assignment: Diagnostic Analysis using Python\n",
    "\n",
    "You’ll be working with real-world data to address a problem faced by the National Health Service (NHS). The analysis will require you to utilise Python to explore the available data, create visualisations to identify trends, and extract meaningful insights to inform decision-making. "
   ]
  },
  {
   "cell_type": "markdown",
   "id": "bce4b767",
   "metadata": {},
   "source": [
    "### A note for students using this template\n",
    "This Jupyter Notebook is a template you can use to complete the Course 2 assignment: Diagnostic Analysis using Python. \n",
    "\n",
    "Keep in mind: \n",
    "- You are **not required** to use this template to complete the assignment. \n",
    "- If you decide to use this template for your assignment, make a copy of the notebook and save it using the assignment naming convention: **LastName_FirstName_DA201_Assignment_Notebook.ipynb**.\n",
    "- The workflow suggested in this template follows the Assignment Activities throughout the course.\n",
    "- Refer to the guidance on the Assignment Activity pages for specific details. \n",
    "- The markup and comments in this template identify the key elements you need to complete before submitting the assignment.\n",
    "- Make this notebook your own by adding your process notes and rationale using markdown, add links, screenshots, or images to support your analysis, refine or clarify the comments, and change the workflow to suit your process.\n",
    "- All elements should be functional and visible in your Notebook. \n",
    "- Be sure to push your notebook to GitHub after completing each Assignment Activity.\n",
    "\n",
    " > ***Markdown*** Remember to change cell types to `Markdown`. You can review [Markdown basics](https://docs.github.com/en/get-started/writing-on-github/getting-started-with-writing-and-formatting-on-github/basic-writing-and-formatting-syntax) to find out how to add formatted text, links, and images to your notebook."
   ]
  },
  {
   "cell_type": "markdown",
   "id": "ef6d24b2",
   "metadata": {},
   "source": [
    "# "
   ]
  },
  {
   "cell_type": "markdown",
   "id": "0834b036",
   "metadata": {},
   "source": [
    "# Assignment activity 1"
   ]
  },
  {
   "cell_type": "markdown",
   "id": "8b40c558",
   "metadata": {},
   "source": [
    "### Insert proof of your GitHub repository. This can be a link or screenshot showing your repo."
   ]
  },
  {
   "cell_type": "code",
   "execution_count": 1,
   "id": "984dc1db",
   "metadata": {},
   "outputs": [
    {
     "ename": "SyntaxError",
     "evalue": "invalid syntax (1157297486.py, line 2)",
     "output_type": "error",
     "traceback": [
      "\u001b[0;36m  Input \u001b[0;32mIn [1]\u001b[0;36m\u001b[0m\n\u001b[0;31m    https://github.com/BeatriceFerreira/LSE_DA_NHS_analysis\u001b[0m\n\u001b[0m          ^\u001b[0m\n\u001b[0;31mSyntaxError\u001b[0m\u001b[0;31m:\u001b[0m invalid syntax\n"
     ]
    }
   ],
   "source": [
    "# My GitHub repository.\n",
    "https://github.com/BeatriceFerreira/LSE_DA_NHS_analysis"
   ]
  },
  {
   "cell_type": "markdown",
   "id": "af0f600f",
   "metadata": {},
   "source": [
    "# "
   ]
  },
  {
   "cell_type": "markdown",
   "id": "c010a760",
   "metadata": {},
   "source": [
    "# Assignment activity 2"
   ]
  },
  {
   "cell_type": "markdown",
   "id": "550d4c5b",
   "metadata": {},
   "source": [
    "### Prepare your workstation"
   ]
  },
  {
   "cell_type": "code",
   "execution_count": 2,
   "id": "ef565e11",
   "metadata": {},
   "outputs": [],
   "source": [
    "# Import the necessary libraries.\n",
    "import pandas as pd\n",
    "import numpy as np\n",
    "\n",
    "# Optional - Ignore warnings.\n",
    "import warnings\n",
    "warnings.filterwarnings('ignore')"
   ]
  },
  {
   "cell_type": "code",
   "execution_count": 3,
   "id": "624d89f2",
   "metadata": {},
   "outputs": [
    {
     "data": {
      "text/plain": [
       "(137793, 8)"
      ]
     },
     "execution_count": 3,
     "metadata": {},
     "output_type": "execute_result"
    }
   ],
   "source": [
    "# Import and sense-check the actual_duration.csv data set as ad.\n",
    "ad = ('actual_duration.csv')\n",
    "\n",
    "# read actual duration\n",
    "ad = pd.read_csv('actual_duration.csv')\n",
    "\n",
    "# view the dataframe \n",
    "ad.shape "
   ]
  },
  {
   "cell_type": "code",
   "execution_count": 57,
   "id": "f694cd9d",
   "metadata": {},
   "outputs": [],
   "source": [
    "# Determine whether there are missing values.\n",
    "# Making a list of missing value types\n",
    "ad = pd.read_csv(\"actual_duration.csv\")\n",
    "missing_values = [\"n/a\", \"na\", \"--\"]"
   ]
  },
  {
   "cell_type": "code",
   "execution_count": 58,
   "id": "87d56ff3",
   "metadata": {},
   "outputs": [],
   "source": [
    "# Check for missing values.\n",
    "ad = ad[ad.isna().any(axis=1)]"
   ]
  },
  {
   "cell_type": "code",
   "execution_count": 6,
   "id": "5188b50c",
   "metadata": {},
   "outputs": [
    {
     "data": {
      "text/plain": [
       "(0, 8)"
      ]
     },
     "execution_count": 6,
     "metadata": {},
     "output_type": "execute_result"
    }
   ],
   "source": [
    "# print missing values \n",
    "ad.shape "
   ]
  },
  {
   "cell_type": "code",
   "execution_count": 7,
   "id": "9fa13562",
   "metadata": {},
   "outputs": [
    {
     "name": "stdout",
     "output_type": "stream",
     "text": [
      "sub_icb_location_code        object\n",
      "sub_icb_location_ons_code    object\n",
      "sub_icb_location_name        object\n",
      "icb_ons_code                 object\n",
      "region_ons_code              object\n",
      "appointment_date             object\n",
      "actual_duration              object\n",
      "count_of_appointments         int64\n",
      "dtype: object\n"
     ]
    }
   ],
   "source": [
    "# Determine the descriptive statistics of the data set.\n",
    "result = ad.dtypes\n",
    "\n",
    "print(ad.dtypes)"
   ]
  },
  {
   "cell_type": "code",
   "execution_count": 8,
   "id": "429271d9",
   "metadata": {},
   "outputs": [
    {
     "data": {
      "text/html": [
       "<div>\n",
       "<style scoped>\n",
       "    .dataframe tbody tr th:only-of-type {\n",
       "        vertical-align: middle;\n",
       "    }\n",
       "\n",
       "    .dataframe tbody tr th {\n",
       "        vertical-align: top;\n",
       "    }\n",
       "\n",
       "    .dataframe thead th {\n",
       "        text-align: right;\n",
       "    }\n",
       "</style>\n",
       "<table border=\"1\" class=\"dataframe\">\n",
       "  <thead>\n",
       "    <tr style=\"text-align: right;\">\n",
       "      <th></th>\n",
       "      <th>count_of_appointments</th>\n",
       "    </tr>\n",
       "  </thead>\n",
       "  <tbody>\n",
       "    <tr>\n",
       "      <th>count</th>\n",
       "      <td>0.0</td>\n",
       "    </tr>\n",
       "    <tr>\n",
       "      <th>mean</th>\n",
       "      <td>NaN</td>\n",
       "    </tr>\n",
       "    <tr>\n",
       "      <th>std</th>\n",
       "      <td>NaN</td>\n",
       "    </tr>\n",
       "    <tr>\n",
       "      <th>min</th>\n",
       "      <td>NaN</td>\n",
       "    </tr>\n",
       "    <tr>\n",
       "      <th>25%</th>\n",
       "      <td>NaN</td>\n",
       "    </tr>\n",
       "    <tr>\n",
       "      <th>50%</th>\n",
       "      <td>NaN</td>\n",
       "    </tr>\n",
       "    <tr>\n",
       "      <th>75%</th>\n",
       "      <td>NaN</td>\n",
       "    </tr>\n",
       "    <tr>\n",
       "      <th>max</th>\n",
       "      <td>NaN</td>\n",
       "    </tr>\n",
       "  </tbody>\n",
       "</table>\n",
       "</div>"
      ],
      "text/plain": [
       "       count_of_appointments\n",
       "count                    0.0\n",
       "mean                     NaN\n",
       "std                      NaN\n",
       "min                      NaN\n",
       "25%                      NaN\n",
       "50%                      NaN\n",
       "75%                      NaN\n",
       "max                      NaN"
      ]
     },
     "execution_count": 8,
     "metadata": {},
     "output_type": "execute_result"
    }
   ],
   "source": [
    "# describe ad\n",
    "ad.describe()"
   ]
  },
  {
   "cell_type": "code",
   "execution_count": 9,
   "id": "f2dfbc7b",
   "metadata": {},
   "outputs": [
    {
     "data": {
      "text/plain": [
       "(596821, 7)"
      ]
     },
     "execution_count": 9,
     "metadata": {},
     "output_type": "execute_result"
    }
   ],
   "source": [
    "# Import and sense-check the appointments_regional.csv data set as ar.\n",
    "ar = ('appointments_regional.csv')\n",
    "\n",
    "# read appointments regional\n",
    "ar = pd.read_csv('appointments_regional.csv')\n",
    "\n",
    "# View the DataFrame.\n",
    "ar.shape"
   ]
  },
  {
   "cell_type": "code",
   "execution_count": 10,
   "id": "255823c3",
   "metadata": {},
   "outputs": [],
   "source": [
    "# Determine whether there are missing values.\n",
    "# check for missing values with ar\n",
    "ar = pd.read_csv(\"appointments_regional.csv\")\n",
    "ar = ar[ar.isna().any(axis=1)]"
   ]
  },
  {
   "cell_type": "code",
   "execution_count": 11,
   "id": "b5e816b7",
   "metadata": {},
   "outputs": [
    {
     "data": {
      "text/plain": [
       "(0, 7)"
      ]
     },
     "execution_count": 11,
     "metadata": {},
     "output_type": "execute_result"
    }
   ],
   "source": [
    "# view the missing values for ar\n",
    "ar.shape "
   ]
  },
  {
   "cell_type": "code",
   "execution_count": 30,
   "id": "3cbc4d97",
   "metadata": {},
   "outputs": [
    {
     "data": {
      "text/html": [
       "<div>\n",
       "<style scoped>\n",
       "    .dataframe tbody tr th:only-of-type {\n",
       "        vertical-align: middle;\n",
       "    }\n",
       "\n",
       "    .dataframe tbody tr th {\n",
       "        vertical-align: top;\n",
       "    }\n",
       "\n",
       "    .dataframe thead th {\n",
       "        text-align: right;\n",
       "    }\n",
       "</style>\n",
       "<table border=\"1\" class=\"dataframe\">\n",
       "  <thead>\n",
       "    <tr style=\"text-align: right;\">\n",
       "      <th></th>\n",
       "      <th>count_of_appointments</th>\n",
       "    </tr>\n",
       "  </thead>\n",
       "  <tbody>\n",
       "    <tr>\n",
       "      <th>count</th>\n",
       "      <td>0.0</td>\n",
       "    </tr>\n",
       "    <tr>\n",
       "      <th>mean</th>\n",
       "      <td>NaN</td>\n",
       "    </tr>\n",
       "    <tr>\n",
       "      <th>std</th>\n",
       "      <td>NaN</td>\n",
       "    </tr>\n",
       "    <tr>\n",
       "      <th>min</th>\n",
       "      <td>NaN</td>\n",
       "    </tr>\n",
       "    <tr>\n",
       "      <th>25%</th>\n",
       "      <td>NaN</td>\n",
       "    </tr>\n",
       "    <tr>\n",
       "      <th>50%</th>\n",
       "      <td>NaN</td>\n",
       "    </tr>\n",
       "    <tr>\n",
       "      <th>75%</th>\n",
       "      <td>NaN</td>\n",
       "    </tr>\n",
       "    <tr>\n",
       "      <th>max</th>\n",
       "      <td>NaN</td>\n",
       "    </tr>\n",
       "  </tbody>\n",
       "</table>\n",
       "</div>"
      ],
      "text/plain": [
       "       count_of_appointments\n",
       "count                    0.0\n",
       "mean                     NaN\n",
       "std                      NaN\n",
       "min                      NaN\n",
       "25%                      NaN\n",
       "50%                      NaN\n",
       "75%                      NaN\n",
       "max                      NaN"
      ]
     },
     "execution_count": 30,
     "metadata": {},
     "output_type": "execute_result"
    }
   ],
   "source": [
    "# Determine the descriptive statistics of the data set.\n",
    "ar.describe()"
   ]
  },
  {
   "cell_type": "code",
   "execution_count": 31,
   "id": "4e30305d",
   "metadata": {},
   "outputs": [
    {
     "data": {
      "text/plain": [
       "(817394, 8)"
      ]
     },
     "execution_count": 31,
     "metadata": {},
     "output_type": "execute_result"
    }
   ],
   "source": [
    "# Import and sense-check the national_categories.xlsx data set as nc.\n",
    "nc = ('national_categories.xlsx')\n",
    "\n",
    "# read national categories\n",
    "nc = pd.read_excel('national_categories.xlsx')\n",
    "\n",
    "# View the DataFrame.\n",
    "nc.shape"
   ]
  },
  {
   "cell_type": "code",
   "execution_count": 32,
   "id": "f5dfc24e",
   "metadata": {},
   "outputs": [],
   "source": [
    "# Determine whether there are missing values.\n",
    "nc = pd.read_excel(\"national_categories.xlsx\")\n",
    "nc = nc[nc.isna().any(axis=1)]"
   ]
  },
  {
   "cell_type": "code",
   "execution_count": 33,
   "id": "c8fbe1a6",
   "metadata": {},
   "outputs": [
    {
     "data": {
      "text/plain": [
       "(0, 8)"
      ]
     },
     "execution_count": 33,
     "metadata": {},
     "output_type": "execute_result"
    }
   ],
   "source": [
    "# view missing values for nc \n",
    "nc.shape"
   ]
  },
  {
   "cell_type": "code",
   "execution_count": 53,
   "id": "b87dfc23",
   "metadata": {},
   "outputs": [
    {
     "data": {
      "text/html": [
       "<div>\n",
       "<style scoped>\n",
       "    .dataframe tbody tr th:only-of-type {\n",
       "        vertical-align: middle;\n",
       "    }\n",
       "\n",
       "    .dataframe tbody tr th {\n",
       "        vertical-align: top;\n",
       "    }\n",
       "\n",
       "    .dataframe thead th {\n",
       "        text-align: right;\n",
       "    }\n",
       "</style>\n",
       "<table border=\"1\" class=\"dataframe\">\n",
       "  <thead>\n",
       "    <tr style=\"text-align: right;\">\n",
       "      <th></th>\n",
       "      <th>count_of_appointments</th>\n",
       "    </tr>\n",
       "  </thead>\n",
       "  <tbody>\n",
       "    <tr>\n",
       "      <th>count</th>\n",
       "      <td>817394.000000</td>\n",
       "    </tr>\n",
       "    <tr>\n",
       "      <th>mean</th>\n",
       "      <td>362.183684</td>\n",
       "    </tr>\n",
       "    <tr>\n",
       "      <th>std</th>\n",
       "      <td>1084.576600</td>\n",
       "    </tr>\n",
       "    <tr>\n",
       "      <th>min</th>\n",
       "      <td>1.000000</td>\n",
       "    </tr>\n",
       "    <tr>\n",
       "      <th>25%</th>\n",
       "      <td>7.000000</td>\n",
       "    </tr>\n",
       "    <tr>\n",
       "      <th>50%</th>\n",
       "      <td>25.000000</td>\n",
       "    </tr>\n",
       "    <tr>\n",
       "      <th>75%</th>\n",
       "      <td>128.000000</td>\n",
       "    </tr>\n",
       "    <tr>\n",
       "      <th>max</th>\n",
       "      <td>16590.000000</td>\n",
       "    </tr>\n",
       "  </tbody>\n",
       "</table>\n",
       "</div>"
      ],
      "text/plain": [
       "       count_of_appointments\n",
       "count          817394.000000\n",
       "mean              362.183684\n",
       "std              1084.576600\n",
       "min                 1.000000\n",
       "25%                 7.000000\n",
       "50%                25.000000\n",
       "75%               128.000000\n",
       "max             16590.000000"
      ]
     },
     "execution_count": 53,
     "metadata": {},
     "output_type": "execute_result"
    }
   ],
   "source": [
    "# Determine the descriptive statistics of the data set.\n",
    "nc.describe()"
   ]
  },
  {
   "cell_type": "markdown",
   "id": "f86ea066",
   "metadata": {},
   "source": [
    "### Explore the data set"
   ]
  },
  {
   "cell_type": "markdown",
   "id": "333a607a",
   "metadata": {},
   "source": [
    "**Question 1:** How many locations are there in the data set?"
   ]
  },
  {
   "cell_type": "code",
   "execution_count": 54,
   "id": "749cdb45",
   "metadata": {},
   "outputs": [
    {
     "data": {
      "text/plain": [
       "NHS Norfolk and Waveney ICB - 26A                       1484\n",
       "NHS Kent and Medway ICB - 91Q                           1484\n",
       "NHS North West London ICB - W2U3Z                       1484\n",
       "NHS Bedfordshire Luton and Milton Keynes ICB - M1J4Y    1484\n",
       "NHS Greater Manchester ICB - 14L                        1484\n",
       "                                                        ... \n",
       "NHS Staffordshire and Stoke-on-Trent ICB - 05D          1051\n",
       "NHS South Yorkshire ICB - 03L                           1028\n",
       "NHS North East and North Cumbria ICB - 00P              1025\n",
       "NHS South Yorkshire ICB - 02P                           1022\n",
       "NHS Cheshire and Merseyside ICB - 01F                   1013\n",
       "Name: sub_icb_location_name, Length: 106, dtype: int64"
      ]
     },
     "execution_count": 54,
     "metadata": {},
     "output_type": "execute_result"
    }
   ],
   "source": [
    "# Determine the number of locations.\n",
    "\n",
    "# import pandas\n",
    "import pandas as pd\n",
    "\n",
    "#import numpy as np\n",
    "import numpy as np\n",
    "\n",
    "# import actual duration csv as ad\n",
    "ad = ('actual_duration.csv')\n",
    "\n",
    "# read actual duration\n",
    "ad = pd.read_csv('actual_duration.csv')\n",
    "\n",
    "ad.columns \n",
    "\n",
    "ad['sub_icb_location_name'].value_counts()\n",
    "\n"
   ]
  },
  {
   "cell_type": "code",
   "execution_count": 20,
   "id": "cccbb3a2",
   "metadata": {},
   "outputs": [
    {
     "data": {
      "text/plain": [
       "Index(['sub_icb_location_code', 'sub_icb_location_ons_code',\n",
       "       'sub_icb_location_name', 'icb_ons_code', 'region_ons_code',\n",
       "       'appointment_date', 'actual_duration', 'count_of_appointments'],\n",
       "      dtype='object')"
      ]
     },
     "execution_count": 20,
     "metadata": {},
     "output_type": "execute_result"
    }
   ],
   "source": [
    "#view columns \n",
    "ad.columns"
   ]
  },
  {
   "cell_type": "markdown",
   "id": "93f0ce86",
   "metadata": {},
   "source": [
    "**Question 2:** What are the five locations with the highest number of records?\n",
    "\n"
   ]
  },
  {
   "cell_type": "code",
   "execution_count": null,
   "id": "9e7c3913",
   "metadata": {},
   "outputs": [],
   "source": [
    "# Determine the top five locations based on record count.\n",
    "\n",
    "# top_locations_count= Norfolk and Waveney, Kent and Medway, North West London, Bedfordshire Luton and Milton Keynes, Greater Manchester\n"
   ]
  },
  {
   "cell_type": "markdown",
   "id": "d75405a5",
   "metadata": {},
   "source": [
    "**Question 3:** How many service settings, context types, national categories, and appointment statuses are there?"
   ]
  },
  {
   "cell_type": "code",
   "execution_count": 24,
   "id": "3cc2f7aa",
   "metadata": {},
   "outputs": [],
   "source": [
    "# import libraries \n",
    "import pandas as pd\n",
    "import numpy as np\n",
    "\n",
    "# import national categories csv as ar\n",
    "nc = ('national_categories.xlsx')\n",
    "\n",
    "# read actual duration\n",
    "nc = pd.read_excel('national_categories.xlsx')\n",
    " "
   ]
  },
  {
   "cell_type": "code",
   "execution_count": 37,
   "id": "f6790e40",
   "metadata": {},
   "outputs": [
    {
     "name": "stdout",
     "output_type": "stream",
     "text": [
      "appointment_date         datetime64[ns]\n",
      "icb_ons_code                     object\n",
      "sub_icb_location_name            object\n",
      "service_setting                  object\n",
      "context_type                     object\n",
      "national_category                object\n",
      "count_of_appointments             int64\n",
      "appointment_month                object\n",
      "dtype: object\n"
     ]
    }
   ],
   "source": [
    "# Determine the number of context types.\n",
    "\n",
    "import pandas as pd\n",
    "import numpy as np\n",
    "\n",
    "# import national categories csv as ar\n",
    "nc = ('national_categories.xlsx')\n",
    "\n",
    "# read actual duration\n",
    "nc = pd.read_excel('national_categories.xlsx')\n",
    "\n",
    "# view the dataframe\n",
    "nc.shape\n",
    "\n",
    "# apply the dtype attribute\n",
    "result = nc.dtypes\n",
    "\n",
    "# view the data types\n",
    "print(nc.dtypes)\n"
   ]
  },
  {
   "cell_type": "code",
   "execution_count": 13,
   "id": "ba95bff3",
   "metadata": {},
   "outputs": [
    {
     "data": {
      "text/plain": [
       "Attended    232137\n",
       "Unknown     201324\n",
       "DNA         163360\n",
       "Name: appointment_status, dtype: int64"
      ]
     },
     "execution_count": 13,
     "metadata": {},
     "output_type": "execute_result"
    }
   ],
   "source": [
    "# Determine the number of national categories.\n",
    "\n",
    "import pandas as pd\n",
    "import numpy as np\n",
    "\n",
    "# import appointments regional csv as ar\n",
    "ar = ('appointments_regional.csv')\n",
    "\n",
    "# read actual duration\n",
    "ar = pd.read_csv('appointments_regional.csv')\n",
    "\n",
    "ar.columns \n",
    "\n",
    "# view the entries of the appointment status column \n",
    "ar['appointment_status'].value_counts()\n"
   ]
  },
  {
   "cell_type": "markdown",
   "id": "7c3429c3",
   "metadata": {},
   "source": [
    "# "
   ]
  },
  {
   "cell_type": "markdown",
   "id": "edf661d9",
   "metadata": {},
   "source": [
    "# Assignment activity 3"
   ]
  },
  {
   "cell_type": "markdown",
   "id": "be5393dd",
   "metadata": {},
   "source": [
    "### Continue to explore the data and search for answers to more specific questions posed by the NHS."
   ]
  },
  {
   "cell_type": "markdown",
   "id": "a742e563",
   "metadata": {},
   "source": [
    "**Question 1:** Between what dates were appointments scheduled? "
   ]
  },
  {
   "cell_type": "code",
   "execution_count": 56,
   "id": "6d3e53a7",
   "metadata": {},
   "outputs": [
    {
     "data": {
      "text/plain": [
       "(137793, 8)"
      ]
     },
     "execution_count": 56,
     "metadata": {},
     "output_type": "execute_result"
    }
   ],
   "source": [
    "# View the first five rows of appointment_date for the ad DataFrame to determine the date format.\n",
    "\n",
    "# Import pandas and numpy library\n",
    "import pandas as pd\n",
    "import numpy as np\n",
    "\n",
    "# import actual duration csv as ad\n",
    "ad = ('actual_duration.csv')\n",
    "\n",
    "# create a dataframe\n",
    "ad = pd. read_csv('actual_duration.csv')\n",
    "\n",
    "ad.shape "
   ]
  },
  {
   "cell_type": "code",
   "execution_count": 57,
   "id": "ea7110cf",
   "metadata": {},
   "outputs": [
    {
     "name": "stdout",
     "output_type": "stream",
     "text": [
      "<class 'pandas.core.frame.DataFrame'>\n",
      "RangeIndex: 137793 entries, 0 to 137792\n",
      "Data columns (total 8 columns):\n",
      " #   Column                     Non-Null Count   Dtype         \n",
      "---  ------                     --------------   -----         \n",
      " 0   sub_icb_location_code      137793 non-null  object        \n",
      " 1   sub_icb_location_ons_code  137793 non-null  object        \n",
      " 2   sub_icb_location_name      137793 non-null  object        \n",
      " 3   icb_ons_code               137793 non-null  object        \n",
      " 4   region_ons_code            137793 non-null  object        \n",
      " 5   appointment_date           137793 non-null  datetime64[ns]\n",
      " 6   actual_duration            137793 non-null  object        \n",
      " 7   count_of_appointments      137793 non-null  int64         \n",
      "dtypes: datetime64[ns](1), int64(1), object(6)\n",
      "memory usage: 8.4+ MB\n"
     ]
    }
   ],
   "source": [
    "# Change '\"appointment_date\" column from object to datetime format \n",
    "\n",
    "ad ['appointment_date'] = pd.to_datetime(ad['appointment_date'])\n",
    "\n",
    "# check the format of \"appointment_date\" column \n",
    "\n",
    "ad.info()"
   ]
  },
  {
   "cell_type": "code",
   "execution_count": 58,
   "id": "b3e3fd33",
   "metadata": {},
   "outputs": [
    {
     "data": {
      "text/html": [
       "<div>\n",
       "<style scoped>\n",
       "    .dataframe tbody tr th:only-of-type {\n",
       "        vertical-align: middle;\n",
       "    }\n",
       "\n",
       "    .dataframe tbody tr th {\n",
       "        vertical-align: top;\n",
       "    }\n",
       "\n",
       "    .dataframe thead th {\n",
       "        text-align: right;\n",
       "    }\n",
       "</style>\n",
       "<table border=\"1\" class=\"dataframe\">\n",
       "  <thead>\n",
       "    <tr style=\"text-align: right;\">\n",
       "      <th></th>\n",
       "      <th>sub_icb_location_code</th>\n",
       "      <th>sub_icb_location_ons_code</th>\n",
       "      <th>sub_icb_location_name</th>\n",
       "      <th>icb_ons_code</th>\n",
       "      <th>region_ons_code</th>\n",
       "      <th>appointment_date</th>\n",
       "      <th>actual_duration</th>\n",
       "      <th>count_of_appointments</th>\n",
       "    </tr>\n",
       "  </thead>\n",
       "  <tbody>\n",
       "    <tr>\n",
       "      <th>0</th>\n",
       "      <td>00L</td>\n",
       "      <td>E38000130</td>\n",
       "      <td>NHS North East and North Cumbria ICB - 00L</td>\n",
       "      <td>E54000050</td>\n",
       "      <td>E40000012</td>\n",
       "      <td>2021-12-01</td>\n",
       "      <td>31-60 Minutes</td>\n",
       "      <td>364</td>\n",
       "    </tr>\n",
       "    <tr>\n",
       "      <th>1</th>\n",
       "      <td>00L</td>\n",
       "      <td>E38000130</td>\n",
       "      <td>NHS North East and North Cumbria ICB - 00L</td>\n",
       "      <td>E54000050</td>\n",
       "      <td>E40000012</td>\n",
       "      <td>2021-12-01</td>\n",
       "      <td>21-30 Minutes</td>\n",
       "      <td>619</td>\n",
       "    </tr>\n",
       "    <tr>\n",
       "      <th>2</th>\n",
       "      <td>00L</td>\n",
       "      <td>E38000130</td>\n",
       "      <td>NHS North East and North Cumbria ICB - 00L</td>\n",
       "      <td>E54000050</td>\n",
       "      <td>E40000012</td>\n",
       "      <td>2021-12-01</td>\n",
       "      <td>6-10 Minutes</td>\n",
       "      <td>1698</td>\n",
       "    </tr>\n",
       "    <tr>\n",
       "      <th>3</th>\n",
       "      <td>00L</td>\n",
       "      <td>E38000130</td>\n",
       "      <td>NHS North East and North Cumbria ICB - 00L</td>\n",
       "      <td>E54000050</td>\n",
       "      <td>E40000012</td>\n",
       "      <td>2021-12-01</td>\n",
       "      <td>Unknown / Data Quality</td>\n",
       "      <td>1277</td>\n",
       "    </tr>\n",
       "    <tr>\n",
       "      <th>4</th>\n",
       "      <td>00L</td>\n",
       "      <td>E38000130</td>\n",
       "      <td>NHS North East and North Cumbria ICB - 00L</td>\n",
       "      <td>E54000050</td>\n",
       "      <td>E40000012</td>\n",
       "      <td>2021-12-01</td>\n",
       "      <td>16-20 Minutes</td>\n",
       "      <td>730</td>\n",
       "    </tr>\n",
       "  </tbody>\n",
       "</table>\n",
       "</div>"
      ],
      "text/plain": [
       "  sub_icb_location_code sub_icb_location_ons_code  \\\n",
       "0                   00L                 E38000130   \n",
       "1                   00L                 E38000130   \n",
       "2                   00L                 E38000130   \n",
       "3                   00L                 E38000130   \n",
       "4                   00L                 E38000130   \n",
       "\n",
       "                        sub_icb_location_name icb_ons_code region_ons_code  \\\n",
       "0  NHS North East and North Cumbria ICB - 00L    E54000050       E40000012   \n",
       "1  NHS North East and North Cumbria ICB - 00L    E54000050       E40000012   \n",
       "2  NHS North East and North Cumbria ICB - 00L    E54000050       E40000012   \n",
       "3  NHS North East and North Cumbria ICB - 00L    E54000050       E40000012   \n",
       "4  NHS North East and North Cumbria ICB - 00L    E54000050       E40000012   \n",
       "\n",
       "  appointment_date         actual_duration  count_of_appointments  \n",
       "0       2021-12-01           31-60 Minutes                    364  \n",
       "1       2021-12-01           21-30 Minutes                    619  \n",
       "2       2021-12-01            6-10 Minutes                   1698  \n",
       "3       2021-12-01  Unknown / Data Quality                   1277  \n",
       "4       2021-12-01           16-20 Minutes                    730  "
      ]
     },
     "execution_count": 58,
     "metadata": {},
     "output_type": "execute_result"
    }
   ],
   "source": [
    "# View the first five rows of appointment_date\n",
    "\n",
    "ad.head()"
   ]
  },
  {
   "cell_type": "code",
   "execution_count": 59,
   "id": "9633aba4",
   "metadata": {},
   "outputs": [
    {
     "data": {
      "text/plain": [
       "(<bound method NDFrame._add_numeric_operations.<locals>.min of 0        2021-12-01\n",
       " 1        2021-12-01\n",
       " 2        2021-12-01\n",
       " 3        2021-12-01\n",
       " 4        2021-12-01\n",
       "             ...    \n",
       " 137788   2022-06-30\n",
       " 137789   2022-06-30\n",
       " 137790   2022-06-30\n",
       " 137791   2022-06-30\n",
       " 137792   2022-06-30\n",
       " Name: appointment_date, Length: 137793, dtype: datetime64[ns]>,\n",
       " Timestamp('2022-06-30 00:00:00'))"
      ]
     },
     "execution_count": 59,
     "metadata": {},
     "output_type": "execute_result"
    }
   ],
   "source": [
    "# Between what dates were appointments scheduled? \n",
    "\n",
    "ad ['appointment_date'].min, ad['appointment_date'].max()"
   ]
  },
  {
   "cell_type": "code",
   "execution_count": 62,
   "id": "d32fb602",
   "metadata": {},
   "outputs": [
    {
     "data": {
      "text/plain": [
       "(817394, 8)"
      ]
     },
     "execution_count": 62,
     "metadata": {},
     "output_type": "execute_result"
    }
   ],
   "source": [
    "# change the date format for nc and view the first five appointments \n",
    "# Import pandas and numpy library\n",
    "import pandas as pd\n",
    "import numpy as np\n",
    "\n",
    "# import actual duration csv as ad\n",
    "nc = ('national_categories.xlsx')\n",
    "\n",
    "# create a dataframe\n",
    "nc = pd. read_excel('national_categories.xlsx')\n",
    "\n",
    "nc.shape \n"
   ]
  },
  {
   "cell_type": "code",
   "execution_count": 63,
   "id": "05a60b63",
   "metadata": {},
   "outputs": [
    {
     "name": "stdout",
     "output_type": "stream",
     "text": [
      "<class 'pandas.core.frame.DataFrame'>\n",
      "RangeIndex: 817394 entries, 0 to 817393\n",
      "Data columns (total 8 columns):\n",
      " #   Column                 Non-Null Count   Dtype         \n",
      "---  ------                 --------------   -----         \n",
      " 0   appointment_date       137793 non-null  datetime64[ns]\n",
      " 1   icb_ons_code           817394 non-null  object        \n",
      " 2   sub_icb_location_name  817394 non-null  object        \n",
      " 3   service_setting        817394 non-null  object        \n",
      " 4   context_type           817394 non-null  object        \n",
      " 5   national_category      817394 non-null  object        \n",
      " 6   count_of_appointments  817394 non-null  int64         \n",
      " 7   appointment_month      817394 non-null  object        \n",
      "dtypes: datetime64[ns](1), int64(1), object(6)\n",
      "memory usage: 49.9+ MB\n"
     ]
    }
   ],
   "source": [
    "# Change the date format of nc ['appointment_date'].\n",
    "\n",
    "nc ['appointment_date'] = pd.to_datetime(ad['appointment_date'])\n",
    "\n",
    "# check the format of \"appointment_date\" column \n",
    "\n",
    "nc.info()\n"
   ]
  },
  {
   "cell_type": "code",
   "execution_count": 64,
   "id": "7ee37673",
   "metadata": {},
   "outputs": [
    {
     "data": {
      "text/html": [
       "<div>\n",
       "<style scoped>\n",
       "    .dataframe tbody tr th:only-of-type {\n",
       "        vertical-align: middle;\n",
       "    }\n",
       "\n",
       "    .dataframe tbody tr th {\n",
       "        vertical-align: top;\n",
       "    }\n",
       "\n",
       "    .dataframe thead th {\n",
       "        text-align: right;\n",
       "    }\n",
       "</style>\n",
       "<table border=\"1\" class=\"dataframe\">\n",
       "  <thead>\n",
       "    <tr style=\"text-align: right;\">\n",
       "      <th></th>\n",
       "      <th>appointment_date</th>\n",
       "      <th>icb_ons_code</th>\n",
       "      <th>sub_icb_location_name</th>\n",
       "      <th>service_setting</th>\n",
       "      <th>context_type</th>\n",
       "      <th>national_category</th>\n",
       "      <th>count_of_appointments</th>\n",
       "      <th>appointment_month</th>\n",
       "    </tr>\n",
       "  </thead>\n",
       "  <tbody>\n",
       "    <tr>\n",
       "      <th>0</th>\n",
       "      <td>2021-12-01</td>\n",
       "      <td>E54000050</td>\n",
       "      <td>NHS North East and North Cumbria ICB - 00L</td>\n",
       "      <td>Primary Care Network</td>\n",
       "      <td>Care Related Encounter</td>\n",
       "      <td>Patient contact during Care Home Round</td>\n",
       "      <td>3</td>\n",
       "      <td>2021-08</td>\n",
       "    </tr>\n",
       "    <tr>\n",
       "      <th>1</th>\n",
       "      <td>2021-12-01</td>\n",
       "      <td>E54000050</td>\n",
       "      <td>NHS North East and North Cumbria ICB - 00L</td>\n",
       "      <td>Other</td>\n",
       "      <td>Care Related Encounter</td>\n",
       "      <td>Planned Clinics</td>\n",
       "      <td>7</td>\n",
       "      <td>2021-08</td>\n",
       "    </tr>\n",
       "    <tr>\n",
       "      <th>2</th>\n",
       "      <td>2021-12-01</td>\n",
       "      <td>E54000050</td>\n",
       "      <td>NHS North East and North Cumbria ICB - 00L</td>\n",
       "      <td>General Practice</td>\n",
       "      <td>Care Related Encounter</td>\n",
       "      <td>Home Visit</td>\n",
       "      <td>79</td>\n",
       "      <td>2021-08</td>\n",
       "    </tr>\n",
       "    <tr>\n",
       "      <th>3</th>\n",
       "      <td>2021-12-01</td>\n",
       "      <td>E54000050</td>\n",
       "      <td>NHS North East and North Cumbria ICB - 00L</td>\n",
       "      <td>General Practice</td>\n",
       "      <td>Care Related Encounter</td>\n",
       "      <td>General Consultation Acute</td>\n",
       "      <td>725</td>\n",
       "      <td>2021-08</td>\n",
       "    </tr>\n",
       "    <tr>\n",
       "      <th>4</th>\n",
       "      <td>2021-12-01</td>\n",
       "      <td>E54000050</td>\n",
       "      <td>NHS North East and North Cumbria ICB - 00L</td>\n",
       "      <td>General Practice</td>\n",
       "      <td>Care Related Encounter</td>\n",
       "      <td>Structured Medication Review</td>\n",
       "      <td>2</td>\n",
       "      <td>2021-08</td>\n",
       "    </tr>\n",
       "  </tbody>\n",
       "</table>\n",
       "</div>"
      ],
      "text/plain": [
       "  appointment_date icb_ons_code                       sub_icb_location_name  \\\n",
       "0       2021-12-01    E54000050  NHS North East and North Cumbria ICB - 00L   \n",
       "1       2021-12-01    E54000050  NHS North East and North Cumbria ICB - 00L   \n",
       "2       2021-12-01    E54000050  NHS North East and North Cumbria ICB - 00L   \n",
       "3       2021-12-01    E54000050  NHS North East and North Cumbria ICB - 00L   \n",
       "4       2021-12-01    E54000050  NHS North East and North Cumbria ICB - 00L   \n",
       "\n",
       "        service_setting            context_type  \\\n",
       "0  Primary Care Network  Care Related Encounter   \n",
       "1                 Other  Care Related Encounter   \n",
       "2      General Practice  Care Related Encounter   \n",
       "3      General Practice  Care Related Encounter   \n",
       "4      General Practice  Care Related Encounter   \n",
       "\n",
       "                        national_category  count_of_appointments  \\\n",
       "0  Patient contact during Care Home Round                      3   \n",
       "1                         Planned Clinics                      7   \n",
       "2                              Home Visit                     79   \n",
       "3              General Consultation Acute                    725   \n",
       "4            Structured Medication Review                      2   \n",
       "\n",
       "  appointment_month  \n",
       "0           2021-08  \n",
       "1           2021-08  \n",
       "2           2021-08  \n",
       "3           2021-08  \n",
       "4           2021-08  "
      ]
     },
     "execution_count": 64,
     "metadata": {},
     "output_type": "execute_result"
    }
   ],
   "source": [
    "# View the first five rows of appointment_date\n",
    "\n",
    "nc.head()"
   ]
  },
  {
   "cell_type": "code",
   "execution_count": 65,
   "id": "ee3b8ca1",
   "metadata": {},
   "outputs": [
    {
     "name": "stdout",
     "output_type": "stream",
     "text": [
      "<class 'pandas.core.frame.DataFrame'>\n",
      "RangeIndex: 817394 entries, 0 to 817393\n",
      "Data columns (total 8 columns):\n",
      " #   Column                 Non-Null Count   Dtype         \n",
      "---  ------                 --------------   -----         \n",
      " 0   appointment_date       137793 non-null  datetime64[ns]\n",
      " 1   icb_ons_code           817394 non-null  object        \n",
      " 2   sub_icb_location_name  817394 non-null  object        \n",
      " 3   service_setting        817394 non-null  object        \n",
      " 4   context_type           817394 non-null  object        \n",
      " 5   national_category      817394 non-null  object        \n",
      " 6   count_of_appointments  817394 non-null  int64         \n",
      " 7   appointment_month      817394 non-null  object        \n",
      "dtypes: datetime64[ns](1), int64(1), object(6)\n",
      "memory usage: 49.9+ MB\n"
     ]
    }
   ],
   "source": [
    "# Check the format of \"appointment_date\" column \n",
    "\n",
    "nc.info()"
   ]
  },
  {
   "cell_type": "code",
   "execution_count": null,
   "id": "563b1e15",
   "metadata": {},
   "outputs": [],
   "source": [
    "# Between what dates were appointments scheduled? \n",
    "\n",
    "ad ['appointment_date'].min, ad['appointment_date'].max()"
   ]
  },
  {
   "cell_type": "code",
   "execution_count": null,
   "id": "b73db1bf",
   "metadata": {},
   "outputs": [],
   "source": [
    "# Change the date format of ar['appointment_date'].\n",
    "\n",
    "# change the date format for ar and view the first five appointments \n",
    "# Import pandas and numpy library\n",
    "import pandas as pd\n",
    "import numpy as np\n",
    "\n",
    "# import actual duration csv as ad\n",
    "ar = ('actual_duration.csv')\n",
    "\n",
    "# create a dataframe\n",
    "ar = pd. read_csv('actual_duration.csv')\n",
    "\n",
    "# View the DateFrame.\n",
    "\n",
    "ar.info()"
   ]
  },
  {
   "cell_type": "code",
   "execution_count": null,
   "id": "345bb4c1",
   "metadata": {},
   "outputs": [],
   "source": [
    "# View the first five rows of appointment_date\n",
    "\n",
    "nc.head()"
   ]
  },
  {
   "cell_type": "code",
   "execution_count": null,
   "id": "2a2df87e",
   "metadata": {},
   "outputs": [],
   "source": [
    "# Between what dates were appointments scheduled? \n",
    "\n",
    "ad ['appointment_date'].min, ad['appointment_date'].max()"
   ]
  },
  {
   "cell_type": "markdown",
   "id": "f41ad664",
   "metadata": {},
   "source": [
    "**Question 2:** Which service setting was the most popular for NHS North West London from 1 January to 1 June 2022?"
   ]
  },
  {
   "cell_type": "code",
   "execution_count": 66,
   "id": "b577ca5f",
   "metadata": {},
   "outputs": [
    {
     "data": {
      "text/plain": [
       "Index(['appointment_date', 'icb_ons_code', 'sub_icb_location_name',\n",
       "       'service_setting', 'context_type', 'national_category',\n",
       "       'count_of_appointments', 'appointment_month'],\n",
       "      dtype='object')"
      ]
     },
     "execution_count": 66,
     "metadata": {},
     "output_type": "execute_result"
    }
   ],
   "source": [
    "# For each of these service settings, determine the number of records available for the period and the location. \n",
    "\n",
    "nc.columns\n"
   ]
  },
  {
   "cell_type": "code",
   "execution_count": 67,
   "id": "80c70cc5",
   "metadata": {},
   "outputs": [
    {
     "name": "stdout",
     "output_type": "stream",
     "text": [
      "<class 'pandas.core.frame.DataFrame'>\n",
      "RangeIndex: 817394 entries, 0 to 817393\n",
      "Data columns (total 8 columns):\n",
      " #   Column                 Non-Null Count   Dtype         \n",
      "---  ------                 --------------   -----         \n",
      " 0   appointment_date       137793 non-null  datetime64[ns]\n",
      " 1   icb_ons_code           817394 non-null  object        \n",
      " 2   sub_icb_location_name  817394 non-null  object        \n",
      " 3   service_setting        817394 non-null  object        \n",
      " 4   context_type           817394 non-null  object        \n",
      " 5   national_category      817394 non-null  object        \n",
      " 6   count_of_appointments  817394 non-null  int64         \n",
      " 7   appointment_month      817394 non-null  object        \n",
      "dtypes: datetime64[ns](1), int64(1), object(6)\n",
      "memory usage: 49.9+ MB\n"
     ]
    }
   ],
   "source": [
    "nc.info()"
   ]
  },
  {
   "cell_type": "code",
   "execution_count": 68,
   "id": "ce212fc9",
   "metadata": {},
   "outputs": [
    {
     "data": {
      "text/plain": [
       "NHS North West London ICB - W2U3Z              13007\n",
       "NHS Kent and Medway ICB - 91Q                  12637\n",
       "NHS Devon ICB - 15N                            12526\n",
       "NHS Hampshire and Isle Of Wight ICB - D9Y0V    12171\n",
       "NHS North East London ICB - A3A8R              11837\n",
       "                                               ...  \n",
       "NHS North East and North Cumbria ICB - 00N      4210\n",
       "NHS Lancashire and South Cumbria ICB - 02G      4169\n",
       "NHS Cheshire and Merseyside ICB - 01V           3496\n",
       "NHS Cheshire and Merseyside ICB - 01T           3242\n",
       "NHS Greater Manchester ICB - 00V                2170\n",
       "Name: sub_icb_location_name, Length: 106, dtype: int64"
      ]
     },
     "execution_count": 68,
     "metadata": {},
     "output_type": "execute_result"
    }
   ],
   "source": [
    "# view the values of location column\n",
    "\n",
    "nc['sub_icb_location_name'].value_counts()"
   ]
  },
  {
   "cell_type": "code",
   "execution_count": 30,
   "id": "a0b0f6ad",
   "metadata": {},
   "outputs": [
    {
     "data": {
      "text/plain": [
       "Inconsistent Mapping                                                   89494\n",
       "General Consultation Routine                                           89329\n",
       "General Consultation Acute                                             84874\n",
       "Planned Clinics                                                        76429\n",
       "Clinical Triage                                                        74539\n",
       "Planned Clinical Procedure                                             59631\n",
       "Structured Medication Review                                           44467\n",
       "Service provided by organisation external to the practice              43095\n",
       "Home Visit                                                             41850\n",
       "Unplanned Clinical Activity                                            40415\n",
       "Patient contact during Care Home Round                                 28795\n",
       "Unmapped                                                               27419\n",
       "Care Home Visit                                                        26644\n",
       "Social Prescribing Service                                             26492\n",
       "Care Home Needs Assessment & Personalised Care and Support Planning    23505\n",
       "Non-contractual chargeable work                                        20896\n",
       "Walk-in                                                                14179\n",
       "Group Consultation and Group Education                                  5341\n",
       "Name: national_category, dtype: int64"
      ]
     },
     "execution_count": 30,
     "metadata": {},
     "output_type": "execute_result"
    }
   ],
   "source": [
    "# view how many national categories there are \n",
    "nc['national_category'].value_counts()"
   ]
  },
  {
   "cell_type": "code",
   "execution_count": 32,
   "id": "c03c1574",
   "metadata": {},
   "outputs": [
    {
     "data": {
      "text/plain": [
       "Care Related Encounter    700481\n",
       "Inconsistent Mapping       89494\n",
       "Unmapped                   27419\n",
       "Name: context_type, dtype: int64"
      ]
     },
     "execution_count": 32,
     "metadata": {},
     "output_type": "execute_result"
    }
   ],
   "source": [
    "# view how many context types there are \n",
    "nc['context_type'].value_counts()"
   ]
  },
  {
   "cell_type": "code",
   "execution_count": 34,
   "id": "5b8e8817",
   "metadata": {},
   "outputs": [
    {
     "data": {
      "text/plain": [
       "General Practice             359274\n",
       "Primary Care Network         183790\n",
       "Other                        138789\n",
       "Extended Access Provision    108122\n",
       "Unmapped                      27419\n",
       "Name: service_setting, dtype: int64"
      ]
     },
     "execution_count": 34,
     "metadata": {},
     "output_type": "execute_result"
    }
   ],
   "source": [
    "# view how many service settings there are \n",
    "nc['service_setting'].value_counts()"
   ]
  },
  {
   "cell_type": "code",
   "execution_count": 36,
   "id": "d18249de",
   "metadata": {},
   "outputs": [
    {
     "data": {
      "text/plain": [
       "NHS North West London ICB - W2U3Z              13007\n",
       "NHS Kent and Medway ICB - 91Q                  12637\n",
       "NHS Devon ICB - 15N                            12526\n",
       "NHS Hampshire and Isle Of Wight ICB - D9Y0V    12171\n",
       "NHS North East London ICB - A3A8R              11837\n",
       "                                               ...  \n",
       "NHS North East and North Cumbria ICB - 00N      4210\n",
       "NHS Lancashire and South Cumbria ICB - 02G      4169\n",
       "NHS Cheshire and Merseyside ICB - 01V           3496\n",
       "NHS Cheshire and Merseyside ICB - 01T           3242\n",
       "NHS Greater Manchester ICB - 00V                2170\n",
       "Name: sub_icb_location_name, Length: 106, dtype: int64"
      ]
     },
     "execution_count": 36,
     "metadata": {},
     "output_type": "execute_result"
    }
   ],
   "source": [
    "# view how many locations there are \n",
    "nc['sub_icb_location_name'].value_counts()"
   ]
  },
  {
   "cell_type": "code",
   "execution_count": 70,
   "id": "ea14e59a",
   "metadata": {},
   "outputs": [],
   "source": [
    "# selecting few columns\n",
    "\n",
    "nc_fcol = pd.read_excel('national_categories.xlsx', usecols=[\n",
    "                        'service_setting', 'sub_icb_location_name', 'appointment_date'])"
   ]
  },
  {
   "cell_type": "code",
   "execution_count": 71,
   "id": "bd94ae07",
   "metadata": {},
   "outputs": [
    {
     "data": {
      "text/html": [
       "<div>\n",
       "<style scoped>\n",
       "    .dataframe tbody tr th:only-of-type {\n",
       "        vertical-align: middle;\n",
       "    }\n",
       "\n",
       "    .dataframe tbody tr th {\n",
       "        vertical-align: top;\n",
       "    }\n",
       "\n",
       "    .dataframe thead th {\n",
       "        text-align: right;\n",
       "    }\n",
       "</style>\n",
       "<table border=\"1\" class=\"dataframe\">\n",
       "  <thead>\n",
       "    <tr style=\"text-align: right;\">\n",
       "      <th></th>\n",
       "      <th>appointment_date</th>\n",
       "      <th>sub_icb_location_name</th>\n",
       "      <th>service_setting</th>\n",
       "    </tr>\n",
       "  </thead>\n",
       "  <tbody>\n",
       "    <tr>\n",
       "      <th>0</th>\n",
       "      <td>2021-08-02</td>\n",
       "      <td>NHS North East and North Cumbria ICB - 00L</td>\n",
       "      <td>Primary Care Network</td>\n",
       "    </tr>\n",
       "    <tr>\n",
       "      <th>1</th>\n",
       "      <td>2021-08-02</td>\n",
       "      <td>NHS North East and North Cumbria ICB - 00L</td>\n",
       "      <td>Other</td>\n",
       "    </tr>\n",
       "    <tr>\n",
       "      <th>2</th>\n",
       "      <td>2021-08-02</td>\n",
       "      <td>NHS North East and North Cumbria ICB - 00L</td>\n",
       "      <td>General Practice</td>\n",
       "    </tr>\n",
       "    <tr>\n",
       "      <th>3</th>\n",
       "      <td>2021-08-02</td>\n",
       "      <td>NHS North East and North Cumbria ICB - 00L</td>\n",
       "      <td>General Practice</td>\n",
       "    </tr>\n",
       "    <tr>\n",
       "      <th>4</th>\n",
       "      <td>2021-08-02</td>\n",
       "      <td>NHS North East and North Cumbria ICB - 00L</td>\n",
       "      <td>General Practice</td>\n",
       "    </tr>\n",
       "  </tbody>\n",
       "</table>\n",
       "</div>"
      ],
      "text/plain": [
       "  appointment_date                       sub_icb_location_name  \\\n",
       "0       2021-08-02  NHS North East and North Cumbria ICB - 00L   \n",
       "1       2021-08-02  NHS North East and North Cumbria ICB - 00L   \n",
       "2       2021-08-02  NHS North East and North Cumbria ICB - 00L   \n",
       "3       2021-08-02  NHS North East and North Cumbria ICB - 00L   \n",
       "4       2021-08-02  NHS North East and North Cumbria ICB - 00L   \n",
       "\n",
       "        service_setting  \n",
       "0  Primary Care Network  \n",
       "1                 Other  \n",
       "2      General Practice  \n",
       "3      General Practice  \n",
       "4      General Practice  "
      ]
     },
     "execution_count": 71,
     "metadata": {},
     "output_type": "execute_result"
    }
   ],
   "source": [
    "# view the dataframe \n",
    "\n",
    "nc_fcol.head()"
   ]
  },
  {
   "cell_type": "code",
   "execution_count": 72,
   "id": "d1e5600d",
   "metadata": {},
   "outputs": [
    {
     "data": {
      "text/plain": [
       "Index(['appointment_date', 'sub_icb_location_name', 'service_setting'], dtype='object')"
      ]
     },
     "execution_count": 72,
     "metadata": {},
     "output_type": "execute_result"
    }
   ],
   "source": [
    "# view the columns \n",
    "\n",
    "nc_fcol.columns"
   ]
  },
  {
   "cell_type": "code",
   "execution_count": 73,
   "id": "c4fc1bb7",
   "metadata": {},
   "outputs": [
    {
     "data": {
      "text/html": [
       "<div>\n",
       "<style scoped>\n",
       "    .dataframe tbody tr th:only-of-type {\n",
       "        vertical-align: middle;\n",
       "    }\n",
       "\n",
       "    .dataframe tbody tr th {\n",
       "        vertical-align: top;\n",
       "    }\n",
       "\n",
       "    .dataframe thead th {\n",
       "        text-align: right;\n",
       "    }\n",
       "</style>\n",
       "<table border=\"1\" class=\"dataframe\">\n",
       "  <thead>\n",
       "    <tr style=\"text-align: right;\">\n",
       "      <th></th>\n",
       "      <th>appointment_date</th>\n",
       "      <th>sub_icb_location_name</th>\n",
       "      <th>service_setting</th>\n",
       "    </tr>\n",
       "  </thead>\n",
       "  <tbody>\n",
       "  </tbody>\n",
       "</table>\n",
       "</div>"
      ],
      "text/plain": [
       "Empty DataFrame\n",
       "Columns: [appointment_date, sub_icb_location_name, service_setting]\n",
       "Index: []"
      ]
     },
     "execution_count": 73,
     "metadata": {},
     "output_type": "execute_result"
    }
   ],
   "source": [
    "# view all results with NHS North West London ICB - W2U3Z\n",
    "\n",
    "nc_fcol[nc_fcol['sub_icb_location_name'].apply(\n",
    "    lambda x: 'NHS North West London ICB - W2U3Z' in x.lower())]"
   ]
  },
  {
   "cell_type": "code",
   "execution_count": 74,
   "id": "d587af68",
   "metadata": {},
   "outputs": [
    {
     "name": "stdout",
     "output_type": "stream",
     "text": [
      "       appointment_date  \\\n",
      "660090       2021-08-02   \n",
      "660091       2021-08-02   \n",
      "660092       2021-08-02   \n",
      "660093       2021-08-02   \n",
      "660094       2021-08-02   \n",
      "...                 ...   \n",
      "817213       2022-06-25   \n",
      "817253       2022-06-27   \n",
      "817279       2022-06-28   \n",
      "817305       2022-06-29   \n",
      "817349       2022-06-30   \n",
      "\n",
      "                                                   sub_icb_location_name  \\\n",
      "660090  NHS Bath and North East Somerset Swindon and Wiltshire ICB - 92G   \n",
      "660091  NHS Bath and North East Somerset Swindon and Wiltshire ICB - 92G   \n",
      "660092  NHS Bath and North East Somerset Swindon and Wiltshire ICB - 92G   \n",
      "660093  NHS Bath and North East Somerset Swindon and Wiltshire ICB - 92G   \n",
      "660094  NHS Bath and North East Somerset Swindon and Wiltshire ICB - 92G   \n",
      "...                                                                  ...   \n",
      "817213                                    NHS West Yorkshire ICB - X2C4Y   \n",
      "817253                                    NHS West Yorkshire ICB - X2C4Y   \n",
      "817279                                    NHS West Yorkshire ICB - X2C4Y   \n",
      "817305                                    NHS West Yorkshire ICB - X2C4Y   \n",
      "817349                                    NHS West Yorkshire ICB - X2C4Y   \n",
      "\n",
      "                  service_setting  \n",
      "660090  Extended Access Provision  \n",
      "660091  Extended Access Provision  \n",
      "660092  Extended Access Provision  \n",
      "660093  Extended Access Provision  \n",
      "660094  Extended Access Provision  \n",
      "...                           ...  \n",
      "817213                   Unmapped  \n",
      "817253                   Unmapped  \n",
      "817279                   Unmapped  \n",
      "817305                   Unmapped  \n",
      "817349                   Unmapped  \n",
      "\n",
      "[817394 rows x 3 columns]\n"
     ]
    }
   ],
   "source": [
    "nc_fcol = nc_fcol.sort_values(by=['sub_icb_location_name', 'service_setting'])\n",
    "print(nc_fcol)"
   ]
  },
  {
   "cell_type": "code",
   "execution_count": 75,
   "id": "dcf81585",
   "metadata": {},
   "outputs": [
    {
     "data": {
      "text/plain": [
       "Index(['appointment_date', 'icb_ons_code', 'sub_icb_location_name',\n",
       "       'service_setting', 'context_type', 'national_category',\n",
       "       'count_of_appointments', 'appointment_month'],\n",
       "      dtype='object')"
      ]
     },
     "execution_count": 75,
     "metadata": {},
     "output_type": "execute_result"
    }
   ],
   "source": [
    "# creating a dataframe lock by North West London london \n",
    "\n",
    "# Import pandas and numpy library\n",
    "import pandas as pd\n",
    "import numpy as np\n",
    "\n",
    "# import actual duration csv as ad\n",
    "nc = ('national_categories.xlsx')\n",
    "\n",
    "# create a dataframe\n",
    "nc = pd. read_excel('national_categories.xlsx')\n",
    "\n",
    "nc.columns\n"
   ]
  },
  {
   "cell_type": "code",
   "execution_count": 76,
   "id": "728f51ab",
   "metadata": {},
   "outputs": [
    {
     "name": "stdout",
     "output_type": "stream",
     "text": [
      "       appointment_date icb_ons_code              sub_icb_location_name  \\\n",
      "794321       2021-08-01    E54000027  NHS North West London ICB - W2U3Z   \n",
      "794322       2021-08-01    E54000027  NHS North West London ICB - W2U3Z   \n",
      "794323       2021-08-01    E54000027  NHS North West London ICB - W2U3Z   \n",
      "794324       2021-08-01    E54000027  NHS North West London ICB - W2U3Z   \n",
      "794325       2021-08-01    E54000027  NHS North West London ICB - W2U3Z   \n",
      "...                 ...          ...                                ...   \n",
      "807323       2022-06-30    E54000027  NHS North West London ICB - W2U3Z   \n",
      "807324       2022-06-30    E54000027  NHS North West London ICB - W2U3Z   \n",
      "807325       2022-06-30    E54000027  NHS North West London ICB - W2U3Z   \n",
      "807326       2022-06-30    E54000027  NHS North West London ICB - W2U3Z   \n",
      "807327       2022-06-30    E54000027  NHS North West London ICB - W2U3Z   \n",
      "\n",
      "                  service_setting            context_type  \\\n",
      "794321                   Unmapped                Unmapped   \n",
      "794322                      Other    Inconsistent Mapping   \n",
      "794323           General Practice    Inconsistent Mapping   \n",
      "794324           General Practice  Care Related Encounter   \n",
      "794325           General Practice  Care Related Encounter   \n",
      "...                           ...                     ...   \n",
      "807323  Extended Access Provision  Care Related Encounter   \n",
      "807324  Extended Access Provision  Care Related Encounter   \n",
      "807325  Extended Access Provision  Care Related Encounter   \n",
      "807326  Extended Access Provision  Care Related Encounter   \n",
      "807327           General Practice  Care Related Encounter   \n",
      "\n",
      "                                                national_category  \\\n",
      "794321                                                   Unmapped   \n",
      "794322                                       Inconsistent Mapping   \n",
      "794323                                       Inconsistent Mapping   \n",
      "794324                                                    Walk-in   \n",
      "794325                                            Planned Clinics   \n",
      "...                                                           ...   \n",
      "807323                                 Planned Clinical Procedure   \n",
      "807324                               General Consultation Routine   \n",
      "807325                                 General Consultation Acute   \n",
      "807326                                            Clinical Triage   \n",
      "807327  Service provided by organisation external to the practice   \n",
      "\n",
      "        count_of_appointments appointment_month  \n",
      "794321                    607           2021-08  \n",
      "794322                      6           2021-08  \n",
      "794323                     47           2021-08  \n",
      "794324                     74           2021-08  \n",
      "794325                     98           2021-08  \n",
      "...                       ...               ...  \n",
      "807323                      6           2022-06  \n",
      "807324                     25           2022-06  \n",
      "807325                    217           2022-06  \n",
      "807326                    103           2022-06  \n",
      "807327                     24           2022-06  \n",
      "\n",
      "[13007 rows x 8 columns]\n"
     ]
    }
   ],
   "source": [
    "# create a subset of NC based on location\n",
    "nc_subset = nc.loc[nc['sub_icb_location_name']\n",
    "                   == 'NHS North West London ICB - W2U3Z']\n",
    "\n",
    "print(nc_subset)"
   ]
  },
  {
   "cell_type": "code",
   "execution_count": 77,
   "id": "d0d5701b",
   "metadata": {},
   "outputs": [
    {
     "data": {
      "text/html": [
       "<div>\n",
       "<style scoped>\n",
       "    .dataframe tbody tr th:only-of-type {\n",
       "        vertical-align: middle;\n",
       "    }\n",
       "\n",
       "    .dataframe tbody tr th {\n",
       "        vertical-align: top;\n",
       "    }\n",
       "\n",
       "    .dataframe thead th {\n",
       "        text-align: right;\n",
       "    }\n",
       "</style>\n",
       "<table border=\"1\" class=\"dataframe\">\n",
       "  <thead>\n",
       "    <tr style=\"text-align: right;\">\n",
       "      <th></th>\n",
       "      <th>appointment_date</th>\n",
       "      <th>icb_ons_code</th>\n",
       "      <th>sub_icb_location_name</th>\n",
       "      <th>service_setting</th>\n",
       "      <th>context_type</th>\n",
       "      <th>national_category</th>\n",
       "      <th>count_of_appointments</th>\n",
       "      <th>appointment_month</th>\n",
       "    </tr>\n",
       "  </thead>\n",
       "  <tbody>\n",
       "    <tr>\n",
       "      <th>800289</th>\n",
       "      <td>2022-01-01</td>\n",
       "      <td>E54000027</td>\n",
       "      <td>NHS North West London ICB - W2U3Z</td>\n",
       "      <td>Unmapped</td>\n",
       "      <td>Unmapped</td>\n",
       "      <td>Unmapped</td>\n",
       "      <td>496</td>\n",
       "      <td>2022-01</td>\n",
       "    </tr>\n",
       "    <tr>\n",
       "      <th>800290</th>\n",
       "      <td>2022-01-01</td>\n",
       "      <td>E54000027</td>\n",
       "      <td>NHS North West London ICB - W2U3Z</td>\n",
       "      <td>Primary Care Network</td>\n",
       "      <td>Care Related Encounter</td>\n",
       "      <td>Clinical Triage</td>\n",
       "      <td>19</td>\n",
       "      <td>2022-01</td>\n",
       "    </tr>\n",
       "    <tr>\n",
       "      <th>800291</th>\n",
       "      <td>2022-01-01</td>\n",
       "      <td>E54000027</td>\n",
       "      <td>NHS North West London ICB - W2U3Z</td>\n",
       "      <td>Other</td>\n",
       "      <td>Inconsistent Mapping</td>\n",
       "      <td>Inconsistent Mapping</td>\n",
       "      <td>1</td>\n",
       "      <td>2022-01</td>\n",
       "    </tr>\n",
       "    <tr>\n",
       "      <th>800292</th>\n",
       "      <td>2022-01-01</td>\n",
       "      <td>E54000027</td>\n",
       "      <td>NHS North West London ICB - W2U3Z</td>\n",
       "      <td>General Practice</td>\n",
       "      <td>Inconsistent Mapping</td>\n",
       "      <td>Inconsistent Mapping</td>\n",
       "      <td>16</td>\n",
       "      <td>2022-01</td>\n",
       "    </tr>\n",
       "    <tr>\n",
       "      <th>800293</th>\n",
       "      <td>2022-01-01</td>\n",
       "      <td>E54000027</td>\n",
       "      <td>NHS North West London ICB - W2U3Z</td>\n",
       "      <td>Primary Care Network</td>\n",
       "      <td>Care Related Encounter</td>\n",
       "      <td>Planned Clinics</td>\n",
       "      <td>29</td>\n",
       "      <td>2022-01</td>\n",
       "    </tr>\n",
       "    <tr>\n",
       "      <th>...</th>\n",
       "      <td>...</td>\n",
       "      <td>...</td>\n",
       "      <td>...</td>\n",
       "      <td>...</td>\n",
       "      <td>...</td>\n",
       "      <td>...</td>\n",
       "      <td>...</td>\n",
       "      <td>...</td>\n",
       "    </tr>\n",
       "    <tr>\n",
       "      <th>806220</th>\n",
       "      <td>2022-06-01</td>\n",
       "      <td>E54000027</td>\n",
       "      <td>NHS North West London ICB - W2U3Z</td>\n",
       "      <td>Extended Access Provision</td>\n",
       "      <td>Care Related Encounter</td>\n",
       "      <td>Home Visit</td>\n",
       "      <td>4</td>\n",
       "      <td>2022-06</td>\n",
       "    </tr>\n",
       "    <tr>\n",
       "      <th>806221</th>\n",
       "      <td>2022-06-01</td>\n",
       "      <td>E54000027</td>\n",
       "      <td>NHS North West London ICB - W2U3Z</td>\n",
       "      <td>Extended Access Provision</td>\n",
       "      <td>Care Related Encounter</td>\n",
       "      <td>General Consultation Routine</td>\n",
       "      <td>27</td>\n",
       "      <td>2022-06</td>\n",
       "    </tr>\n",
       "    <tr>\n",
       "      <th>806222</th>\n",
       "      <td>2022-06-01</td>\n",
       "      <td>E54000027</td>\n",
       "      <td>NHS North West London ICB - W2U3Z</td>\n",
       "      <td>General Practice</td>\n",
       "      <td>Care Related Encounter</td>\n",
       "      <td>Unplanned Clinical Activity</td>\n",
       "      <td>626</td>\n",
       "      <td>2022-06</td>\n",
       "    </tr>\n",
       "    <tr>\n",
       "      <th>806223</th>\n",
       "      <td>2022-06-01</td>\n",
       "      <td>E54000027</td>\n",
       "      <td>NHS North West London ICB - W2U3Z</td>\n",
       "      <td>Extended Access Provision</td>\n",
       "      <td>Care Related Encounter</td>\n",
       "      <td>General Consultation Acute</td>\n",
       "      <td>224</td>\n",
       "      <td>2022-06</td>\n",
       "    </tr>\n",
       "    <tr>\n",
       "      <th>806224</th>\n",
       "      <td>2022-06-01</td>\n",
       "      <td>E54000027</td>\n",
       "      <td>NHS North West London ICB - W2U3Z</td>\n",
       "      <td>Extended Access Provision</td>\n",
       "      <td>Care Related Encounter</td>\n",
       "      <td>Clinical Triage</td>\n",
       "      <td>96</td>\n",
       "      <td>2022-06</td>\n",
       "    </tr>\n",
       "  </tbody>\n",
       "</table>\n",
       "<p>5936 rows × 8 columns</p>\n",
       "</div>"
      ],
      "text/plain": [
       "       appointment_date icb_ons_code              sub_icb_location_name  \\\n",
       "800289       2022-01-01    E54000027  NHS North West London ICB - W2U3Z   \n",
       "800290       2022-01-01    E54000027  NHS North West London ICB - W2U3Z   \n",
       "800291       2022-01-01    E54000027  NHS North West London ICB - W2U3Z   \n",
       "800292       2022-01-01    E54000027  NHS North West London ICB - W2U3Z   \n",
       "800293       2022-01-01    E54000027  NHS North West London ICB - W2U3Z   \n",
       "...                 ...          ...                                ...   \n",
       "806220       2022-06-01    E54000027  NHS North West London ICB - W2U3Z   \n",
       "806221       2022-06-01    E54000027  NHS North West London ICB - W2U3Z   \n",
       "806222       2022-06-01    E54000027  NHS North West London ICB - W2U3Z   \n",
       "806223       2022-06-01    E54000027  NHS North West London ICB - W2U3Z   \n",
       "806224       2022-06-01    E54000027  NHS North West London ICB - W2U3Z   \n",
       "\n",
       "                  service_setting            context_type  \\\n",
       "800289                   Unmapped                Unmapped   \n",
       "800290       Primary Care Network  Care Related Encounter   \n",
       "800291                      Other    Inconsistent Mapping   \n",
       "800292           General Practice    Inconsistent Mapping   \n",
       "800293       Primary Care Network  Care Related Encounter   \n",
       "...                           ...                     ...   \n",
       "806220  Extended Access Provision  Care Related Encounter   \n",
       "806221  Extended Access Provision  Care Related Encounter   \n",
       "806222           General Practice  Care Related Encounter   \n",
       "806223  Extended Access Provision  Care Related Encounter   \n",
       "806224  Extended Access Provision  Care Related Encounter   \n",
       "\n",
       "                   national_category  count_of_appointments appointment_month  \n",
       "800289                      Unmapped                    496           2022-01  \n",
       "800290               Clinical Triage                     19           2022-01  \n",
       "800291          Inconsistent Mapping                      1           2022-01  \n",
       "800292          Inconsistent Mapping                     16           2022-01  \n",
       "800293               Planned Clinics                     29           2022-01  \n",
       "...                              ...                    ...               ...  \n",
       "806220                    Home Visit                      4           2022-06  \n",
       "806221  General Consultation Routine                     27           2022-06  \n",
       "806222   Unplanned Clinical Activity                    626           2022-06  \n",
       "806223    General Consultation Acute                    224           2022-06  \n",
       "806224               Clinical Triage                     96           2022-06  \n",
       "\n",
       "[5936 rows x 8 columns]"
      ]
     },
     "execution_count": 77,
     "metadata": {},
     "output_type": "execute_result"
    }
   ],
   "source": [
    "# filter by date\n",
    "\n",
    "nc_subset_date = nc_subset.loc[(nc_subset['appointment_date'] >= '2022-01-01')\n",
    "                               & (nc_subset['appointment_date'] <= '2022-06-01')]\n",
    "\n",
    "# view filtered\n",
    "nc_subset_date"
   ]
  },
  {
   "cell_type": "code",
   "execution_count": 78,
   "id": "bf76ce94",
   "metadata": {},
   "outputs": [
    {
     "name": "stdout",
     "output_type": "stream",
     "text": [
      "General Practice             2104\n",
      "Other                        1318\n",
      "Primary Care Network         1272\n",
      "Extended Access Provision    1090\n",
      "Unmapped                      152\n",
      "Name: service_setting, dtype: int64\n"
     ]
    }
   ],
   "source": [
    "# count all values in service_setting in descending order \n",
    "print(nc_subset_date['service_setting'].value_counts(ascending= False))"
   ]
  },
  {
   "cell_type": "markdown",
   "id": "7ac94132",
   "metadata": {},
   "source": [
    "**Question 3:** Which month had the highest number of appointments?"
   ]
  },
  {
   "cell_type": "code",
   "execution_count": 79,
   "id": "6084c6d1",
   "metadata": {},
   "outputs": [
    {
     "data": {
      "text/plain": [
       "Index(['appointment_date', 'icb_ons_code', 'sub_icb_location_name',\n",
       "       'service_setting', 'context_type', 'national_category',\n",
       "       'count_of_appointments', 'appointment_month'],\n",
       "      dtype='object')"
      ]
     },
     "execution_count": 79,
     "metadata": {},
     "output_type": "execute_result"
    }
   ],
   "source": [
    "# Number of appointments per month == sum of count_of_appointments by month.\n",
    "# Import pandas and numpy library\n",
    "import pandas as pd\n",
    "import numpy as np\n",
    "\n",
    "# import actual duration csv as ad\n",
    "nc = ('national_categories.xlsx')\n",
    "\n",
    "# create a dataframe\n",
    "nc = pd. read_excel('national_categories.xlsx')\n",
    "\n",
    "nc.columns\n"
   ]
  },
  {
   "cell_type": "code",
   "execution_count": 80,
   "id": "e844ee77",
   "metadata": {},
   "outputs": [
    {
     "name": "stdout",
     "output_type": "stream",
     "text": [
      "<pandas.core.groupby.generic.DataFrameGroupBy object at 0x7fb88deede80>\n"
     ]
    }
   ],
   "source": [
    "# use groupby to get the highest number of appointments by month\n",
    "gb_month = nc.groupby('appointment_month')\n",
    "print(gb_month)"
   ]
  },
  {
   "cell_type": "code",
   "execution_count": 81,
   "id": "2b8b2813",
   "metadata": {},
   "outputs": [
    {
     "data": {
      "text/html": [
       "<div>\n",
       "<style scoped>\n",
       "    .dataframe tbody tr th:only-of-type {\n",
       "        vertical-align: middle;\n",
       "    }\n",
       "\n",
       "    .dataframe tbody tr th {\n",
       "        vertical-align: top;\n",
       "    }\n",
       "\n",
       "    .dataframe thead th {\n",
       "        text-align: right;\n",
       "    }\n",
       "</style>\n",
       "<table border=\"1\" class=\"dataframe\">\n",
       "  <thead>\n",
       "    <tr style=\"text-align: right;\">\n",
       "      <th></th>\n",
       "      <th>count_of_appointments</th>\n",
       "    </tr>\n",
       "    <tr>\n",
       "      <th>appointment_month</th>\n",
       "      <th></th>\n",
       "    </tr>\n",
       "  </thead>\n",
       "  <tbody>\n",
       "    <tr>\n",
       "      <th>2021-08</th>\n",
       "      <td>23852171</td>\n",
       "    </tr>\n",
       "    <tr>\n",
       "      <th>2021-09</th>\n",
       "      <td>28522501</td>\n",
       "    </tr>\n",
       "    <tr>\n",
       "      <th>2021-10</th>\n",
       "      <td>30303834</td>\n",
       "    </tr>\n",
       "    <tr>\n",
       "      <th>2021-11</th>\n",
       "      <td>30405070</td>\n",
       "    </tr>\n",
       "    <tr>\n",
       "      <th>2021-12</th>\n",
       "      <td>25140776</td>\n",
       "    </tr>\n",
       "    <tr>\n",
       "      <th>2022-01</th>\n",
       "      <td>25635474</td>\n",
       "    </tr>\n",
       "    <tr>\n",
       "      <th>2022-02</th>\n",
       "      <td>25355260</td>\n",
       "    </tr>\n",
       "    <tr>\n",
       "      <th>2022-03</th>\n",
       "      <td>29595038</td>\n",
       "    </tr>\n",
       "    <tr>\n",
       "      <th>2022-04</th>\n",
       "      <td>23913060</td>\n",
       "    </tr>\n",
       "    <tr>\n",
       "      <th>2022-05</th>\n",
       "      <td>27495508</td>\n",
       "    </tr>\n",
       "    <tr>\n",
       "      <th>2022-06</th>\n",
       "      <td>25828078</td>\n",
       "    </tr>\n",
       "  </tbody>\n",
       "</table>\n",
       "</div>"
      ],
      "text/plain": [
       "                   count_of_appointments\n",
       "appointment_month                       \n",
       "2021-08                         23852171\n",
       "2021-09                         28522501\n",
       "2021-10                         30303834\n",
       "2021-11                         30405070\n",
       "2021-12                         25140776\n",
       "2022-01                         25635474\n",
       "2022-02                         25355260\n",
       "2022-03                         29595038\n",
       "2022-04                         23913060\n",
       "2022-05                         27495508\n",
       "2022-06                         25828078"
      ]
     },
     "execution_count": 81,
     "metadata": {},
     "output_type": "execute_result"
    }
   ],
   "source": [
    "# using sum() to view \n",
    "gb_month.sum()"
   ]
  },
  {
   "cell_type": "markdown",
   "id": "7aba0dca",
   "metadata": {},
   "source": [
    "# "
   ]
  },
  {
   "cell_type": "markdown",
   "id": "3a2caa91",
   "metadata": {},
   "source": [
    "# Assignment activity 4"
   ]
  },
  {
   "cell_type": "markdown",
   "id": "946a2948",
   "metadata": {},
   "source": [
    "### Create visualisations and identify possible monthly and seasonal trends in the data."
   ]
  },
  {
   "cell_type": "code",
   "execution_count": 82,
   "id": "c833e1ab",
   "metadata": {},
   "outputs": [],
   "source": [
    "# Import the necessary libraries.\n",
    "import seaborn as sns\n",
    "import matplotlib.pyplot as plt\n",
    "\n",
    "# Set figure size.\n",
    "sns.set(rc={'figure.figsize': (15, 12)})\n",
    "\n",
    "# Set the plot style as white.\n",
    "sns.set_style('white')"
   ]
  },
  {
   "cell_type": "markdown",
   "id": "9bb9d65d",
   "metadata": {},
   "source": [
    "### Objective 1\n",
    "Create three visualisations indicating the number of appointments per month for service settings, context types, and national categories."
   ]
  },
  {
   "cell_type": "code",
   "execution_count": 83,
   "id": "e1ba886c",
   "metadata": {},
   "outputs": [
    {
     "data": {
      "text/plain": [
       "appointment_date         datetime64[ns]\n",
       "icb_ons_code                     object\n",
       "sub_icb_location_name            object\n",
       "service_setting                  object\n",
       "context_type                     object\n",
       "national_category                object\n",
       "count_of_appointments             int64\n",
       "appointment_month                object\n",
       "dtype: object"
      ]
     },
     "execution_count": 83,
     "metadata": {},
     "output_type": "execute_result"
    }
   ],
   "source": [
    "# Change the data type of the appointment month to string to allow for easier plotting.\n",
    "# first view the appointment month data type \n",
    "nc.dtypes \n"
   ]
  },
  {
   "cell_type": "code",
   "execution_count": 84,
   "id": "42e9cd95",
   "metadata": {},
   "outputs": [],
   "source": [
    "# then change from object to string\n",
    "nc['appointment_month'] = nc['appointment_month'].astype('|S')"
   ]
  },
  {
   "cell_type": "code",
   "execution_count": 85,
   "id": "63160f27",
   "metadata": {},
   "outputs": [
    {
     "name": "stdout",
     "output_type": "stream",
     "text": [
      "<pandas.core.groupby.generic.DataFrameGroupBy object at 0x7fb8e4afbca0>\n"
     ]
    }
   ],
   "source": [
    "# Aggregate on monthly level and determine the sum of records per month.\n",
    "\n",
    "gb_month = nc.groupby('appointment_month')\n",
    "print(gb_month)"
   ]
  },
  {
   "cell_type": "code",
   "execution_count": 86,
   "id": "f8e0c26f",
   "metadata": {},
   "outputs": [
    {
     "data": {
      "text/html": [
       "<div>\n",
       "<style scoped>\n",
       "    .dataframe tbody tr th:only-of-type {\n",
       "        vertical-align: middle;\n",
       "    }\n",
       "\n",
       "    .dataframe tbody tr th {\n",
       "        vertical-align: top;\n",
       "    }\n",
       "\n",
       "    .dataframe thead th {\n",
       "        text-align: right;\n",
       "    }\n",
       "</style>\n",
       "<table border=\"1\" class=\"dataframe\">\n",
       "  <thead>\n",
       "    <tr style=\"text-align: right;\">\n",
       "      <th></th>\n",
       "      <th>count_of_appointments</th>\n",
       "    </tr>\n",
       "    <tr>\n",
       "      <th>appointment_month</th>\n",
       "      <th></th>\n",
       "    </tr>\n",
       "  </thead>\n",
       "  <tbody>\n",
       "    <tr>\n",
       "      <th>b'2021-08'</th>\n",
       "      <td>23852171</td>\n",
       "    </tr>\n",
       "    <tr>\n",
       "      <th>b'2021-09'</th>\n",
       "      <td>28522501</td>\n",
       "    </tr>\n",
       "    <tr>\n",
       "      <th>b'2021-10'</th>\n",
       "      <td>30303834</td>\n",
       "    </tr>\n",
       "    <tr>\n",
       "      <th>b'2021-11'</th>\n",
       "      <td>30405070</td>\n",
       "    </tr>\n",
       "    <tr>\n",
       "      <th>b'2021-12'</th>\n",
       "      <td>25140776</td>\n",
       "    </tr>\n",
       "    <tr>\n",
       "      <th>b'2022-01'</th>\n",
       "      <td>25635474</td>\n",
       "    </tr>\n",
       "    <tr>\n",
       "      <th>b'2022-02'</th>\n",
       "      <td>25355260</td>\n",
       "    </tr>\n",
       "    <tr>\n",
       "      <th>b'2022-03'</th>\n",
       "      <td>29595038</td>\n",
       "    </tr>\n",
       "    <tr>\n",
       "      <th>b'2022-04'</th>\n",
       "      <td>23913060</td>\n",
       "    </tr>\n",
       "    <tr>\n",
       "      <th>b'2022-05'</th>\n",
       "      <td>27495508</td>\n",
       "    </tr>\n",
       "    <tr>\n",
       "      <th>b'2022-06'</th>\n",
       "      <td>25828078</td>\n",
       "    </tr>\n",
       "  </tbody>\n",
       "</table>\n",
       "</div>"
      ],
      "text/plain": [
       "                   count_of_appointments\n",
       "appointment_month                       \n",
       "b'2021-08'                      23852171\n",
       "b'2021-09'                      28522501\n",
       "b'2021-10'                      30303834\n",
       "b'2021-11'                      30405070\n",
       "b'2021-12'                      25140776\n",
       "b'2022-01'                      25635474\n",
       "b'2022-02'                      25355260\n",
       "b'2022-03'                      29595038\n",
       "b'2022-04'                      23913060\n",
       "b'2022-05'                      27495508\n",
       "b'2022-06'                      25828078"
      ]
     },
     "execution_count": 86,
     "metadata": {},
     "output_type": "execute_result"
    }
   ],
   "source": [
    "# view output \n",
    "\n",
    "gb_month.sum()\n"
   ]
  },
  {
   "cell_type": "markdown",
   "id": "b82916ae",
   "metadata": {},
   "source": [
    "**Service settings:**"
   ]
  },
  {
   "cell_type": "code",
   "execution_count": 87,
   "id": "485b51c6",
   "metadata": {},
   "outputs": [
    {
     "name": "stdout",
     "output_type": "stream",
     "text": [
      "       appointment_date icb_ons_code  \\\n",
      "0            2021-08-02    E54000050   \n",
      "1            2021-08-02    E54000050   \n",
      "2            2021-08-02    E54000050   \n",
      "3            2021-08-02    E54000050   \n",
      "4            2021-08-02    E54000050   \n",
      "...                 ...          ...   \n",
      "817389       2022-06-30    E54000054   \n",
      "817390       2022-06-30    E54000054   \n",
      "817391       2022-06-30    E54000054   \n",
      "817392       2022-06-30    E54000054   \n",
      "817393       2022-06-30    E54000054   \n",
      "\n",
      "                             sub_icb_location_name            service_setting  \\\n",
      "0       NHS North East and North Cumbria ICB - 00L       Primary Care Network   \n",
      "1       NHS North East and North Cumbria ICB - 00L                      Other   \n",
      "2       NHS North East and North Cumbria ICB - 00L           General Practice   \n",
      "3       NHS North East and North Cumbria ICB - 00L           General Practice   \n",
      "4       NHS North East and North Cumbria ICB - 00L           General Practice   \n",
      "...                                            ...                        ...   \n",
      "817389              NHS West Yorkshire ICB - X2C4Y  Extended Access Provision   \n",
      "817390              NHS West Yorkshire ICB - X2C4Y  Extended Access Provision   \n",
      "817391              NHS West Yorkshire ICB - X2C4Y  Extended Access Provision   \n",
      "817392              NHS West Yorkshire ICB - X2C4Y  Extended Access Provision   \n",
      "817393              NHS West Yorkshire ICB - X2C4Y  Extended Access Provision   \n",
      "\n",
      "                  context_type                       national_category  \\\n",
      "0       Care Related Encounter  Patient contact during Care Home Round   \n",
      "1       Care Related Encounter                         Planned Clinics   \n",
      "2       Care Related Encounter                              Home Visit   \n",
      "3       Care Related Encounter              General Consultation Acute   \n",
      "4       Care Related Encounter            Structured Medication Review   \n",
      "...                        ...                                     ...   \n",
      "817389  Care Related Encounter             Unplanned Clinical Activity   \n",
      "817390  Care Related Encounter                         Planned Clinics   \n",
      "817391  Care Related Encounter              Planned Clinical Procedure   \n",
      "817392  Care Related Encounter            General Consultation Routine   \n",
      "817393  Care Related Encounter              General Consultation Acute   \n",
      "\n",
      "        count_of_appointments appointment_month  \n",
      "0                           3           2021-08  \n",
      "1                           7           2021-08  \n",
      "2                          79           2021-08  \n",
      "3                         725           2021-08  \n",
      "4                           2           2021-08  \n",
      "...                       ...               ...  \n",
      "817389                     12           2022-06  \n",
      "817390                      4           2022-06  \n",
      "817391                     92           2022-06  \n",
      "817392                      4           2022-06  \n",
      "817393                     19           2022-06  \n",
      "\n",
      "[817394 rows x 8 columns]\n"
     ]
    }
   ],
   "source": [
    "# Plot the appointments over the available date range, and review the service settings for months.\n",
    "# Create a lineplot.\n",
    "\n",
    "# Import the necessary libraries.\n",
    "import seaborn as sns\n",
    "import matplotlib.pyplot as plt\n",
    "import pandas as pd\n",
    "\n",
    "# Set figure size.\n",
    "sns.set(rc={'figure.figsize': (15, 12)})\n",
    "\n",
    "# Set the plot style as white.\n",
    "sns.set_style('white')\n",
    "\n",
    "# import actual duration csv as nc\n",
    "nc = pd.read_excel ('national_categories.xlsx')\n",
    "  \n",
    "# Printing Empty DataFrame\n",
    "print(nc)\n"
   ]
  },
  {
   "cell_type": "code",
   "execution_count": 88,
   "id": "2f1ccfc8",
   "metadata": {},
   "outputs": [
    {
     "data": {
      "text/plain": [
       "<AxesSubplot:xlabel='appointment_month', ylabel='count_of_appointments'>"
      ]
     },
     "execution_count": 88,
     "metadata": {},
     "output_type": "execute_result"
    },
    {
     "data": {
      "image/png": "[encoded data removed]",
      "text/plain": [
       "<Figure size 1080x864 with 1 Axes>"
      ]
     },
     "metadata": {},
     "output_type": "display_data"
    }
   ],
   "source": [
    "# creating a new dataframe\n",
    "nc_ss = pd.read_excel('national_categories.xlsx')\n",
    "\n",
    "# create a simple lineplot\n",
    "sns.lineplot(x='appointment_month', y='count_of_appointments',\n",
    "             hue='service_setting', data=nc_ss)"
   ]
  },
  {
   "cell_type": "markdown",
   "id": "8145c8d9",
   "metadata": {},
   "source": [
    "**Context types:**"
   ]
  },
  {
   "cell_type": "code",
   "execution_count": 89,
   "id": "1f23e5f8",
   "metadata": {},
   "outputs": [
    {
     "data": {
      "text/plain": [
       "<AxesSubplot:xlabel='appointment_month', ylabel='count_of_appointments'>"
      ]
     },
     "execution_count": 89,
     "metadata": {},
     "output_type": "execute_result"
    },
    {
     "data": {
      "image/png": "[encoded data removed]",
      "text/plain": [
       "<Figure size 1080x864 with 1 Axes>"
      ]
     },
     "metadata": {},
     "output_type": "display_data"
    }
   ],
   "source": [
    "# Create a separate data set that can be used in future weeks.\n",
    "\n",
    "# create a simple lineplot for context settings\n",
    "# create a dataframe\n",
    "nc_cs = pd. read_excel('national_categories.xlsx')\n",
    "\n",
    "\n",
    "# Create a simple lineplot.\n",
    "sns.lineplot(x='appointment_month', y='count_of_appointments',\n",
    "             hue='context_type', data=nc_cs)"
   ]
  },
  {
   "cell_type": "markdown",
   "id": "e7d64afe",
   "metadata": {},
   "source": [
    "**National categories:**"
   ]
  },
  {
   "cell_type": "code",
   "execution_count": 93,
   "id": "3b22addb",
   "metadata": {},
   "outputs": [
    {
     "data": {
      "text/plain": [
       "<AxesSubplot:xlabel='appointment_month', ylabel='count_of_appointments'>"
      ]
     },
     "execution_count": 93,
     "metadata": {},
     "output_type": "execute_result"
    },
    {
     "data": {
      "image/png": "[encoded data removed]",
      "text/plain": [
       "<Figure size 1080x864 with 1 Axes>"
      ]
     },
     "metadata": {},
     "output_type": "display_data"
    }
   ],
   "source": [
    "# Create a separate data set that can be used in future weeks.\n",
    "\n",
    "nc_nc = pd. read_excel('national_categories.xlsx')\n",
    "\n",
    "# Create a simple lineplot.\n",
    "sns.lineplot(x='appointment_month', y='count_of_appointments',\n",
    "             hue='national_category', data=nc_nc)"
   ]
  },
  {
   "cell_type": "markdown",
   "id": "a8e70f6b",
   "metadata": {},
   "source": [
    "### Objective 2\n",
    "Create four visualisations indicating the number of appointments for service setting per season. The seasons are summer (August 2021), autumn (October 2021), winter (January 2022), and spring (April 2022)."
   ]
  },
  {
   "cell_type": "markdown",
   "id": "9f2e1169",
   "metadata": {},
   "source": [
    "**Summer (August 2021):**"
   ]
  },
  {
   "cell_type": "code",
   "execution_count": 37,
   "id": "9a3586e8",
   "metadata": {},
   "outputs": [
    {
     "name": "stdout",
     "output_type": "stream",
     "text": [
      "       appointment_date icb_ons_code  \\\n",
      "0            2021-08-02    E54000050   \n",
      "1            2021-08-02    E54000050   \n",
      "2            2021-08-02    E54000050   \n",
      "3            2021-08-02    E54000050   \n",
      "4            2021-08-02    E54000050   \n",
      "...                 ...          ...   \n",
      "808176       2021-08-31    E54000054   \n",
      "808177       2021-08-31    E54000054   \n",
      "808178       2021-08-31    E54000054   \n",
      "808179       2021-08-31    E54000054   \n",
      "808180       2021-08-31    E54000054   \n",
      "\n",
      "                             sub_icb_location_name       service_setting  \\\n",
      "0       NHS North East and North Cumbria ICB - 00L  Primary Care Network   \n",
      "1       NHS North East and North Cumbria ICB - 00L                 Other   \n",
      "2       NHS North East and North Cumbria ICB - 00L      General Practice   \n",
      "3       NHS North East and North Cumbria ICB - 00L      General Practice   \n",
      "4       NHS North East and North Cumbria ICB - 00L      General Practice   \n",
      "...                                            ...                   ...   \n",
      "808176              NHS West Yorkshire ICB - X2C4Y                 Other   \n",
      "808177              NHS West Yorkshire ICB - X2C4Y      General Practice   \n",
      "808178              NHS West Yorkshire ICB - X2C4Y  Primary Care Network   \n",
      "808179              NHS West Yorkshire ICB - X2C4Y      General Practice   \n",
      "808180              NHS West Yorkshire ICB - X2C4Y              Unmapped   \n",
      "\n",
      "                  context_type                       national_category  \\\n",
      "0       Care Related Encounter  Patient contact during Care Home Round   \n",
      "1       Care Related Encounter                         Planned Clinics   \n",
      "2       Care Related Encounter                              Home Visit   \n",
      "3       Care Related Encounter              General Consultation Acute   \n",
      "4       Care Related Encounter            Structured Medication Review   \n",
      "...                        ...                                     ...   \n",
      "808176  Care Related Encounter                         Clinical Triage   \n",
      "808177  Care Related Encounter             Unplanned Clinical Activity   \n",
      "808178  Care Related Encounter              Social Prescribing Service   \n",
      "808179  Care Related Encounter                              Home Visit   \n",
      "808180                Unmapped                                Unmapped   \n",
      "\n",
      "        count_of_appointments appointment_month  \n",
      "0                           3           2021-08  \n",
      "1                           7           2021-08  \n",
      "2                          79           2021-08  \n",
      "3                         725           2021-08  \n",
      "4                           2           2021-08  \n",
      "...                       ...               ...  \n",
      "808176                     20           2021-08  \n",
      "808177                    143           2021-08  \n",
      "808178                      7           2021-08  \n",
      "808179                     36           2021-08  \n",
      "808180                    291           2021-08  \n",
      "\n",
      "[69999 rows x 8 columns]\n"
     ]
    },
    {
     "data": {
      "text/plain": [
       "icb_ons_code             E54000050E54000050E54000050E54000050E54000050E...\n",
       "sub_icb_location_name    NHS North East and North Cumbria ICB - 00LNHS ...\n",
       "service_setting          Primary Care NetworkOtherGeneral PracticeGener...\n",
       "context_type             Care Related EncounterCare Related EncounterCa...\n",
       "national_category        Patient contact during Care Home RoundPlanned ...\n",
       "count_of_appointments                                             23852171\n",
       "appointment_month        2021-082021-082021-082021-082021-082021-082021...\n",
       "dtype: object"
      ]
     },
     "execution_count": 37,
     "metadata": {},
     "output_type": "execute_result"
    }
   ],
   "source": [
    "# Create a separate data set that can be used in future weeks.\n",
    "\n",
    "nc_ss_summer = pd. read_excel('national_categories.xlsx')\n",
    "nc_ss_summer = nc_ss_summer.loc[nc_ss_summer['appointment_month'] == '2021-08']\n",
    "\n",
    "print(nc_ss_summer)\n",
    "nc_ss_summer.sum()"
   ]
  },
  {
   "cell_type": "code",
   "execution_count": 91,
   "id": "b7f7857c",
   "metadata": {},
   "outputs": [
    {
     "name": "stdout",
     "output_type": "stream",
     "text": [
      "<bound method DataFrame.groupby of        appointment_date icb_ons_code  \\\n",
      "0            2021-08-02    E54000050   \n",
      "1            2021-08-02    E54000050   \n",
      "2            2021-08-02    E54000050   \n",
      "3            2021-08-02    E54000050   \n",
      "4            2021-08-02    E54000050   \n",
      "...                 ...          ...   \n",
      "808176       2021-08-31    E54000054   \n",
      "808177       2021-08-31    E54000054   \n",
      "808178       2021-08-31    E54000054   \n",
      "808179       2021-08-31    E54000054   \n",
      "808180       2021-08-31    E54000054   \n",
      "\n",
      "                             sub_icb_location_name       service_setting  \\\n",
      "0       NHS North East and North Cumbria ICB - 00L  Primary Care Network   \n",
      "1       NHS North East and North Cumbria ICB - 00L                 Other   \n",
      "2       NHS North East and North Cumbria ICB - 00L      General Practice   \n",
      "3       NHS North East and North Cumbria ICB - 00L      General Practice   \n",
      "4       NHS North East and North Cumbria ICB - 00L      General Practice   \n",
      "...                                            ...                   ...   \n",
      "808176              NHS West Yorkshire ICB - X2C4Y                 Other   \n",
      "808177              NHS West Yorkshire ICB - X2C4Y      General Practice   \n",
      "808178              NHS West Yorkshire ICB - X2C4Y  Primary Care Network   \n",
      "808179              NHS West Yorkshire ICB - X2C4Y      General Practice   \n",
      "808180              NHS West Yorkshire ICB - X2C4Y              Unmapped   \n",
      "\n",
      "                  context_type                       national_category  \\\n",
      "0       Care Related Encounter  Patient contact during Care Home Round   \n",
      "1       Care Related Encounter                         Planned Clinics   \n",
      "2       Care Related Encounter                              Home Visit   \n",
      "3       Care Related Encounter              General Consultation Acute   \n",
      "4       Care Related Encounter            Structured Medication Review   \n",
      "...                        ...                                     ...   \n",
      "808176  Care Related Encounter                         Clinical Triage   \n",
      "808177  Care Related Encounter             Unplanned Clinical Activity   \n",
      "808178  Care Related Encounter              Social Prescribing Service   \n",
      "808179  Care Related Encounter                              Home Visit   \n",
      "808180                Unmapped                                Unmapped   \n",
      "\n",
      "        count_of_appointments appointment_month  \n",
      "0                           3           2021-08  \n",
      "1                           7           2021-08  \n",
      "2                          79           2021-08  \n",
      "3                         725           2021-08  \n",
      "4                           2           2021-08  \n",
      "...                       ...               ...  \n",
      "808176                     20           2021-08  \n",
      "808177                    143           2021-08  \n",
      "808178                      7           2021-08  \n",
      "808179                     36           2021-08  \n",
      "808180                    291           2021-08  \n",
      "\n",
      "[69999 rows x 8 columns]>\n"
     ]
    }
   ],
   "source": [
    "# Look at August 2021 in more detail to allow a closer look.\n",
    "\n",
    "# first groupby count of appointments and appointment month\n",
    "\n",
    "nc_ss_summer.groupby(['service_setting', 'appointment_month'])\n",
    "\n",
    "print(nc_ss_summer.groupby)"
   ]
  },
  {
   "cell_type": "code",
   "execution_count": 94,
   "id": "899e8234",
   "metadata": {},
   "outputs": [
    {
     "data": {
      "text/html": [
       "<div>\n",
       "<style scoped>\n",
       "    .dataframe tbody tr th:only-of-type {\n",
       "        vertical-align: middle;\n",
       "    }\n",
       "\n",
       "    .dataframe tbody tr th {\n",
       "        vertical-align: top;\n",
       "    }\n",
       "\n",
       "    .dataframe thead th {\n",
       "        text-align: right;\n",
       "    }\n",
       "</style>\n",
       "<table border=\"1\" class=\"dataframe\">\n",
       "  <thead>\n",
       "    <tr style=\"text-align: right;\">\n",
       "      <th></th>\n",
       "      <th></th>\n",
       "      <th>count_of_appointments</th>\n",
       "    </tr>\n",
       "    <tr>\n",
       "      <th>service_setting</th>\n",
       "      <th>appointment_month</th>\n",
       "      <th></th>\n",
       "    </tr>\n",
       "  </thead>\n",
       "  <tbody>\n",
       "    <tr>\n",
       "      <th>Extended Access Provision</th>\n",
       "      <th>2021-08</th>\n",
       "      <td>160927</td>\n",
       "    </tr>\n",
       "    <tr>\n",
       "      <th>General Practice</th>\n",
       "      <th>2021-08</th>\n",
       "      <td>21575852</td>\n",
       "    </tr>\n",
       "    <tr>\n",
       "      <th>Other</th>\n",
       "      <th>2021-08</th>\n",
       "      <td>449101</td>\n",
       "    </tr>\n",
       "    <tr>\n",
       "      <th>Primary Care Network</th>\n",
       "      <th>2021-08</th>\n",
       "      <td>432448</td>\n",
       "    </tr>\n",
       "    <tr>\n",
       "      <th>Unmapped</th>\n",
       "      <th>2021-08</th>\n",
       "      <td>1233843</td>\n",
       "    </tr>\n",
       "  </tbody>\n",
       "</table>\n",
       "</div>"
      ],
      "text/plain": [
       "                                             count_of_appointments\n",
       "service_setting           appointment_month                       \n",
       "Extended Access Provision 2021-08                           160927\n",
       "General Practice          2021-08                         21575852\n",
       "Other                     2021-08                           449101\n",
       "Primary Care Network      2021-08                           432448\n",
       "Unmapped                  2021-08                          1233843"
      ]
     },
     "execution_count": 94,
     "metadata": {},
     "output_type": "execute_result"
    }
   ],
   "source": [
    "# then sum of count of appointments\n",
    "nc_ss_summer.groupby(['service_setting', 'appointment_month']).sum(\n",
    "    'count_of_appointments')"
   ]
  },
  {
   "cell_type": "code",
   "execution_count": 95,
   "id": "2a56e5ec",
   "metadata": {},
   "outputs": [
    {
     "data": {
      "text/html": [
       "<div>\n",
       "<style scoped>\n",
       "    .dataframe tbody tr th:only-of-type {\n",
       "        vertical-align: middle;\n",
       "    }\n",
       "\n",
       "    .dataframe tbody tr th {\n",
       "        vertical-align: top;\n",
       "    }\n",
       "\n",
       "    .dataframe thead th {\n",
       "        text-align: right;\n",
       "    }\n",
       "</style>\n",
       "<table border=\"1\" class=\"dataframe\">\n",
       "  <thead>\n",
       "    <tr style=\"text-align: right;\">\n",
       "      <th></th>\n",
       "      <th>index</th>\n",
       "      <th>appointment_date</th>\n",
       "      <th>icb_ons_code</th>\n",
       "      <th>sub_icb_location_name</th>\n",
       "      <th>service_setting</th>\n",
       "      <th>context_type</th>\n",
       "      <th>national_category</th>\n",
       "      <th>count_of_appointments</th>\n",
       "      <th>appointment_month</th>\n",
       "    </tr>\n",
       "  </thead>\n",
       "  <tbody>\n",
       "    <tr>\n",
       "      <th>0</th>\n",
       "      <td>0</td>\n",
       "      <td>2021-08-02</td>\n",
       "      <td>E54000050</td>\n",
       "      <td>NHS North East and North Cumbria ICB - 00L</td>\n",
       "      <td>Primary Care Network</td>\n",
       "      <td>Care Related Encounter</td>\n",
       "      <td>Patient contact during Care Home Round</td>\n",
       "      <td>3</td>\n",
       "      <td>2021-08</td>\n",
       "    </tr>\n",
       "    <tr>\n",
       "      <th>1</th>\n",
       "      <td>1</td>\n",
       "      <td>2021-08-02</td>\n",
       "      <td>E54000050</td>\n",
       "      <td>NHS North East and North Cumbria ICB - 00L</td>\n",
       "      <td>Other</td>\n",
       "      <td>Care Related Encounter</td>\n",
       "      <td>Planned Clinics</td>\n",
       "      <td>7</td>\n",
       "      <td>2021-08</td>\n",
       "    </tr>\n",
       "    <tr>\n",
       "      <th>2</th>\n",
       "      <td>2</td>\n",
       "      <td>2021-08-02</td>\n",
       "      <td>E54000050</td>\n",
       "      <td>NHS North East and North Cumbria ICB - 00L</td>\n",
       "      <td>General Practice</td>\n",
       "      <td>Care Related Encounter</td>\n",
       "      <td>Home Visit</td>\n",
       "      <td>79</td>\n",
       "      <td>2021-08</td>\n",
       "    </tr>\n",
       "    <tr>\n",
       "      <th>3</th>\n",
       "      <td>3</td>\n",
       "      <td>2021-08-02</td>\n",
       "      <td>E54000050</td>\n",
       "      <td>NHS North East and North Cumbria ICB - 00L</td>\n",
       "      <td>General Practice</td>\n",
       "      <td>Care Related Encounter</td>\n",
       "      <td>General Consultation Acute</td>\n",
       "      <td>725</td>\n",
       "      <td>2021-08</td>\n",
       "    </tr>\n",
       "    <tr>\n",
       "      <th>4</th>\n",
       "      <td>4</td>\n",
       "      <td>2021-08-02</td>\n",
       "      <td>E54000050</td>\n",
       "      <td>NHS North East and North Cumbria ICB - 00L</td>\n",
       "      <td>General Practice</td>\n",
       "      <td>Care Related Encounter</td>\n",
       "      <td>Structured Medication Review</td>\n",
       "      <td>2</td>\n",
       "      <td>2021-08</td>\n",
       "    </tr>\n",
       "    <tr>\n",
       "      <th>...</th>\n",
       "      <td>...</td>\n",
       "      <td>...</td>\n",
       "      <td>...</td>\n",
       "      <td>...</td>\n",
       "      <td>...</td>\n",
       "      <td>...</td>\n",
       "      <td>...</td>\n",
       "      <td>...</td>\n",
       "      <td>...</td>\n",
       "    </tr>\n",
       "    <tr>\n",
       "      <th>69994</th>\n",
       "      <td>808176</td>\n",
       "      <td>2021-08-31</td>\n",
       "      <td>E54000054</td>\n",
       "      <td>NHS West Yorkshire ICB - X2C4Y</td>\n",
       "      <td>Other</td>\n",
       "      <td>Care Related Encounter</td>\n",
       "      <td>Clinical Triage</td>\n",
       "      <td>20</td>\n",
       "      <td>2021-08</td>\n",
       "    </tr>\n",
       "    <tr>\n",
       "      <th>69995</th>\n",
       "      <td>808177</td>\n",
       "      <td>2021-08-31</td>\n",
       "      <td>E54000054</td>\n",
       "      <td>NHS West Yorkshire ICB - X2C4Y</td>\n",
       "      <td>General Practice</td>\n",
       "      <td>Care Related Encounter</td>\n",
       "      <td>Unplanned Clinical Activity</td>\n",
       "      <td>143</td>\n",
       "      <td>2021-08</td>\n",
       "    </tr>\n",
       "    <tr>\n",
       "      <th>69996</th>\n",
       "      <td>808178</td>\n",
       "      <td>2021-08-31</td>\n",
       "      <td>E54000054</td>\n",
       "      <td>NHS West Yorkshire ICB - X2C4Y</td>\n",
       "      <td>Primary Care Network</td>\n",
       "      <td>Care Related Encounter</td>\n",
       "      <td>Social Prescribing Service</td>\n",
       "      <td>7</td>\n",
       "      <td>2021-08</td>\n",
       "    </tr>\n",
       "    <tr>\n",
       "      <th>69997</th>\n",
       "      <td>808179</td>\n",
       "      <td>2021-08-31</td>\n",
       "      <td>E54000054</td>\n",
       "      <td>NHS West Yorkshire ICB - X2C4Y</td>\n",
       "      <td>General Practice</td>\n",
       "      <td>Care Related Encounter</td>\n",
       "      <td>Home Visit</td>\n",
       "      <td>36</td>\n",
       "      <td>2021-08</td>\n",
       "    </tr>\n",
       "    <tr>\n",
       "      <th>69998</th>\n",
       "      <td>808180</td>\n",
       "      <td>2021-08-31</td>\n",
       "      <td>E54000054</td>\n",
       "      <td>NHS West Yorkshire ICB - X2C4Y</td>\n",
       "      <td>Unmapped</td>\n",
       "      <td>Unmapped</td>\n",
       "      <td>Unmapped</td>\n",
       "      <td>291</td>\n",
       "      <td>2021-08</td>\n",
       "    </tr>\n",
       "  </tbody>\n",
       "</table>\n",
       "<p>69999 rows × 9 columns</p>\n",
       "</div>"
      ],
      "text/plain": [
       "        index appointment_date icb_ons_code  \\\n",
       "0           0       2021-08-02    E54000050   \n",
       "1           1       2021-08-02    E54000050   \n",
       "2           2       2021-08-02    E54000050   \n",
       "3           3       2021-08-02    E54000050   \n",
       "4           4       2021-08-02    E54000050   \n",
       "...       ...              ...          ...   \n",
       "69994  808176       2021-08-31    E54000054   \n",
       "69995  808177       2021-08-31    E54000054   \n",
       "69996  808178       2021-08-31    E54000054   \n",
       "69997  808179       2021-08-31    E54000054   \n",
       "69998  808180       2021-08-31    E54000054   \n",
       "\n",
       "                            sub_icb_location_name       service_setting  \\\n",
       "0      NHS North East and North Cumbria ICB - 00L  Primary Care Network   \n",
       "1      NHS North East and North Cumbria ICB - 00L                 Other   \n",
       "2      NHS North East and North Cumbria ICB - 00L      General Practice   \n",
       "3      NHS North East and North Cumbria ICB - 00L      General Practice   \n",
       "4      NHS North East and North Cumbria ICB - 00L      General Practice   \n",
       "...                                           ...                   ...   \n",
       "69994              NHS West Yorkshire ICB - X2C4Y                 Other   \n",
       "69995              NHS West Yorkshire ICB - X2C4Y      General Practice   \n",
       "69996              NHS West Yorkshire ICB - X2C4Y  Primary Care Network   \n",
       "69997              NHS West Yorkshire ICB - X2C4Y      General Practice   \n",
       "69998              NHS West Yorkshire ICB - X2C4Y              Unmapped   \n",
       "\n",
       "                 context_type                       national_category  \\\n",
       "0      Care Related Encounter  Patient contact during Care Home Round   \n",
       "1      Care Related Encounter                         Planned Clinics   \n",
       "2      Care Related Encounter                              Home Visit   \n",
       "3      Care Related Encounter              General Consultation Acute   \n",
       "4      Care Related Encounter            Structured Medication Review   \n",
       "...                       ...                                     ...   \n",
       "69994  Care Related Encounter                         Clinical Triage   \n",
       "69995  Care Related Encounter             Unplanned Clinical Activity   \n",
       "69996  Care Related Encounter              Social Prescribing Service   \n",
       "69997  Care Related Encounter                              Home Visit   \n",
       "69998                Unmapped                                Unmapped   \n",
       "\n",
       "       count_of_appointments appointment_month  \n",
       "0                          3           2021-08  \n",
       "1                          7           2021-08  \n",
       "2                         79           2021-08  \n",
       "3                        725           2021-08  \n",
       "4                          2           2021-08  \n",
       "...                      ...               ...  \n",
       "69994                     20           2021-08  \n",
       "69995                    143           2021-08  \n",
       "69996                      7           2021-08  \n",
       "69997                     36           2021-08  \n",
       "69998                    291           2021-08  \n",
       "\n",
       "[69999 rows x 9 columns]"
      ]
     },
     "execution_count": 95,
     "metadata": {},
     "output_type": "execute_result"
    }
   ],
   "source": [
    "# trying to reset the index\n",
    "nc_ss_summer.reset_index()"
   ]
  },
  {
   "cell_type": "code",
   "execution_count": 100,
   "id": "5423251d",
   "metadata": {},
   "outputs": [
    {
     "data": {
      "text/plain": [
       "<AxesSubplot:xlabel='appointment_month', ylabel='count_of_appointments'>"
      ]
     },
     "execution_count": 100,
     "metadata": {},
     "output_type": "execute_result"
    },
    {
     "data": {
      "image/png": "[encoded data removed]",
      "text/plain": [
       "<Figure size 1080x864 with 1 Axes>"
      ]
     },
     "metadata": {},
     "output_type": "display_data"
    }
   ],
   "source": [
    "# Create a lineplot.\n",
    "sns.lineplot(x='appointment_month', y='count_of_appointments',\n",
    "             hue='service_setting', data=nc_ss_summer)"
   ]
  },
  {
   "cell_type": "code",
   "execution_count": null,
   "id": "0fe35646",
   "metadata": {},
   "outputs": [],
   "source": [
    "# create a groupby of appointment month and appointment count \n",
    "import pandas as pd \n",
    "import numpy as np \n",
    "\n",
    "nc_appointment_count= pd.read_excel('national_categories.xlsx')\n",
    "nc_appointment_count.groupby('appointment_month','count_of_appointments')\n",
    "print (nc_appointment_count.groupby)"
   ]
  },
  {
   "cell_type": "markdown",
   "id": "5d356e45",
   "metadata": {},
   "source": [
    "**Autumn (October 2021):**"
   ]
  },
  {
   "cell_type": "code",
   "execution_count": 102,
   "id": "fedd3cb6",
   "metadata": {},
   "outputs": [
    {
     "name": "stdout",
     "output_type": "stream",
     "text": [
      "       appointment_date icb_ons_code  \\\n",
      "1315         2021-10-01    E54000050   \n",
      "1316         2021-10-01    E54000050   \n",
      "1317         2021-10-01    E54000050   \n",
      "1318         2021-10-01    E54000050   \n",
      "1319         2021-10-01    E54000050   \n",
      "...                 ...          ...   \n",
      "809993       2021-10-30    E54000054   \n",
      "809994       2021-10-30    E54000054   \n",
      "809995       2021-10-30    E54000054   \n",
      "809996       2021-10-31    E54000054   \n",
      "809997       2021-10-31    E54000054   \n",
      "\n",
      "                             sub_icb_location_name       service_setting  \\\n",
      "1315    NHS North East and North Cumbria ICB - 00L  Primary Care Network   \n",
      "1316    NHS North East and North Cumbria ICB - 00L  Primary Care Network   \n",
      "1317    NHS North East and North Cumbria ICB - 00L  Primary Care Network   \n",
      "1318    NHS North East and North Cumbria ICB - 00L  Primary Care Network   \n",
      "1319    NHS North East and North Cumbria ICB - 00L                 Other   \n",
      "...                                            ...                   ...   \n",
      "809993              NHS West Yorkshire ICB - X2C4Y      General Practice   \n",
      "809994              NHS West Yorkshire ICB - X2C4Y              Unmapped   \n",
      "809995              NHS West Yorkshire ICB - X2C4Y      General Practice   \n",
      "809996              NHS West Yorkshire ICB - X2C4Y              Unmapped   \n",
      "809997              NHS West Yorkshire ICB - X2C4Y      General Practice   \n",
      "\n",
      "                  context_type  \\\n",
      "1315    Care Related Encounter   \n",
      "1316    Care Related Encounter   \n",
      "1317    Care Related Encounter   \n",
      "1318    Care Related Encounter   \n",
      "1319      Inconsistent Mapping   \n",
      "...                        ...   \n",
      "809993  Care Related Encounter   \n",
      "809994                Unmapped   \n",
      "809995  Care Related Encounter   \n",
      "809996                Unmapped   \n",
      "809997  Care Related Encounter   \n",
      "\n",
      "                                                national_category  \\\n",
      "1315                                 Structured Medication Review   \n",
      "1316    Service provided by organisation external to the practice   \n",
      "1317                                              Planned Clinics   \n",
      "1318                                   Planned Clinical Procedure   \n",
      "1319                                         Inconsistent Mapping   \n",
      "...                                                           ...   \n",
      "809993                                 Planned Clinical Procedure   \n",
      "809994                                                   Unmapped   \n",
      "809995                                            Planned Clinics   \n",
      "809996                                                   Unmapped   \n",
      "809997                               General Consultation Routine   \n",
      "\n",
      "        count_of_appointments appointment_month  \n",
      "1315                        5           2021-10  \n",
      "1316                        1           2021-10  \n",
      "1317                       38           2021-10  \n",
      "1318                       42           2021-10  \n",
      "1319                       27           2021-10  \n",
      "...                       ...               ...  \n",
      "809993                    620           2021-10  \n",
      "809994                     47           2021-10  \n",
      "809995                    508           2021-10  \n",
      "809996                      3           2021-10  \n",
      "809997                     13           2021-10  \n",
      "\n",
      "[74078 rows x 8 columns]\n"
     ]
    },
    {
     "name": "stderr",
     "output_type": "stream",
     "text": [
      "/var/folders/3c/jm411vfx5rqcj7jrsnz0h9mr0000gn/T/ipykernel_3491/3005960039.py:10: FutureWarning: Dropping of nuisance columns in DataFrame reductions (with 'numeric_only=None') is deprecated; in a future version this will raise TypeError.  Select only valid columns before calling the reduction.\n",
      "  nc_ss_autumn.sum()\n"
     ]
    },
    {
     "data": {
      "text/plain": [
       "icb_ons_code             E54000050E54000050E54000050E54000050E54000050E54000050E54000050E54000050E54000050E54000050E54000050E54000050E54000050E54000050E54000050E54000050E54000050E54000050E54000050E54000050E54000050E540000...\n",
       "sub_icb_location_name    NHS North East and North Cumbria ICB - 00LNHS North East and North Cumbria ICB - 00LNHS North East and North Cumbria ICB - 00LNHS North East and North Cumbria ICB - 00LNHS North East and North Cum...\n",
       "service_setting          Primary Care NetworkPrimary Care NetworkPrimary Care NetworkPrimary Care NetworkOtherOtherOtherOtherPrimary Care NetworkOtherOtherPrimary Care NetworkGeneral PracticeGeneral PracticeOtherGeneral P...\n",
       "context_type             Care Related EncounterCare Related EncounterCare Related EncounterCare Related EncounterInconsistent MappingCare Related EncounterCare Related EncounterCare Related EncounterCare Related Encounter...\n",
       "national_category        Structured Medication ReviewService provided by organisation external to the practicePlanned ClinicsPlanned Clinical ProcedureInconsistent MappingPlanned ClinicsHome VisitGeneral Consultation Rout...\n",
       "count_of_appointments                                                                                                                                                                                                   30303834\n",
       "appointment_month        2021-102021-102021-102021-102021-102021-102021-102021-102021-102021-102021-102021-102021-102021-102021-102021-102021-102021-102021-102021-102021-102021-102021-102021-102021-102021-102021-102021-10...\n",
       "dtype: object"
      ]
     },
     "execution_count": 102,
     "metadata": {},
     "output_type": "execute_result"
    }
   ],
   "source": [
    "# Look at October 2021 in more detail to allow a closer look.\n",
    "# Create a lineplot.\n",
    "\n",
    "# Create a separate data set that can be used in future weeks. \n",
    "\n",
    "nc_ss_autumn = pd. read_excel('national_categories.xlsx')\n",
    "nc_ss_autumn = nc_ss_autumn.loc[nc_ss_autumn['appointment_month']=='2021-10']\n",
    "\n",
    "print(nc_ss_autumn)\n",
    "nc_ss_autumn.sum()\n"
   ]
  },
  {
   "cell_type": "code",
   "execution_count": 103,
   "id": "061f813e",
   "metadata": {},
   "outputs": [
    {
     "data": {
      "text/plain": [
       "<AxesSubplot:xlabel='appointment_month', ylabel='count_of_appointments'>"
      ]
     },
     "execution_count": 103,
     "metadata": {},
     "output_type": "execute_result"
    },
    {
     "data": {
      "image/png": "[encoded data removed]",
      "text/plain": [
       "<Figure size 1080x864 with 1 Axes>"
      ]
     },
     "metadata": {},
     "output_type": "display_data"
    }
   ],
   "source": [
    "# Create a lineplot.\n",
    "sns.lineplot(x='appointment_month', y='count_of_appointments', hue='service_setting', data=nc_ss_autumn, ci=None)"
   ]
  },
  {
   "cell_type": "markdown",
   "id": "adf4194a",
   "metadata": {},
   "source": [
    "**Winter (January 2022):**"
   ]
  },
  {
   "cell_type": "code",
   "execution_count": 104,
   "id": "ffca2ed1",
   "metadata": {},
   "outputs": [
    {
     "name": "stdout",
     "output_type": "stream",
     "text": [
      "Empty DataFrame\n",
      "Columns: [appointment_date, icb_ons_code, sub_icb_location_name, service_setting, context_type, national_category, count_of_appointments, appointment_month]\n",
      "Index: []\n"
     ]
    },
    {
     "name": "stderr",
     "output_type": "stream",
     "text": [
      "/var/folders/3c/jm411vfx5rqcj7jrsnz0h9mr0000gn/T/ipykernel_3491/317068931.py:7: FutureWarning: Dropping of nuisance columns in DataFrame reductions (with 'numeric_only=None') is deprecated; in a future version this will raise TypeError.  Select only valid columns before calling the reduction.\n",
      "  nc_ss_winter.sum()\n"
     ]
    },
    {
     "data": {
      "text/plain": [
       "icb_ons_code             0.0\n",
       "sub_icb_location_name    0.0\n",
       "service_setting          0.0\n",
       "context_type             0.0\n",
       "national_category        0.0\n",
       "count_of_appointments    0.0\n",
       "appointment_month        0.0\n",
       "dtype: float64"
      ]
     },
     "execution_count": 104,
     "metadata": {},
     "output_type": "execute_result"
    }
   ],
   "source": [
    "# Look at January 2022 in more detail to allow a closer look.\n",
    "# create a new dataframe and name it winter \n",
    "nc_ss_winter = pd. read_excel('national_categories.xlsx')\n",
    "nc_ss_winter = nc_ss_winter.loc[nc_ss_winter['appointment_month']=='2021-01']\n",
    "\n",
    "print(nc_ss_winter)\n",
    "nc_ss_winter.sum()"
   ]
  },
  {
   "cell_type": "code",
   "execution_count": 105,
   "id": "d3011281",
   "metadata": {},
   "outputs": [
    {
     "data": {
      "text/plain": [
       "<AxesSubplot:>"
      ]
     },
     "execution_count": 105,
     "metadata": {},
     "output_type": "execute_result"
    },
    {
     "data": {
      "image/png": "[encoded data removed]",
      "text/plain": [
       "<Figure size 1080x864 with 1 Axes>"
      ]
     },
     "metadata": {},
     "output_type": "display_data"
    }
   ],
   "source": [
    "# Create a lineplot.\n",
    "sns.lineplot(x='appointment_month', y='count_of_appointments', hue='service_setting', data=nc_ss_winter, ci=None)"
   ]
  },
  {
   "cell_type": "markdown",
   "id": "fd411d37",
   "metadata": {},
   "source": [
    "**Spring (April 2022):**"
   ]
  },
  {
   "cell_type": "code",
   "execution_count": 106,
   "id": "74f43b1d",
   "metadata": {},
   "outputs": [
    {
     "name": "stdout",
     "output_type": "stream",
     "text": [
      "Empty DataFrame\n",
      "Columns: [appointment_date, icb_ons_code, sub_icb_location_name, service_setting, context_type, national_category, count_of_appointments, appointment_month]\n",
      "Index: []\n"
     ]
    },
    {
     "name": "stderr",
     "output_type": "stream",
     "text": [
      "/var/folders/3c/jm411vfx5rqcj7jrsnz0h9mr0000gn/T/ipykernel_3491/3630724725.py:7: FutureWarning: Dropping of nuisance columns in DataFrame reductions (with 'numeric_only=None') is deprecated; in a future version this will raise TypeError.  Select only valid columns before calling the reduction.\n",
      "  nc_ss_spring.sum()\n"
     ]
    },
    {
     "data": {
      "text/plain": [
       "icb_ons_code             0.0\n",
       "sub_icb_location_name    0.0\n",
       "service_setting          0.0\n",
       "context_type             0.0\n",
       "national_category        0.0\n",
       "count_of_appointments    0.0\n",
       "appointment_month        0.0\n",
       "dtype: float64"
      ]
     },
     "execution_count": 106,
     "metadata": {},
     "output_type": "execute_result"
    }
   ],
   "source": [
    "# Look at April 2022 in more detail to allow a closer look.\n",
    "# Create a lineplot.\n",
    "nc_ss_spring = pd. read_excel('national_categories.xlsx')\n",
    "nc_ss_spring = nc_ss_spring.loc[nc_ss_spring['appointment_month']=='2021-04']\n",
    "\n",
    "print(nc_ss_spring)\n",
    "nc_ss_spring.sum()\n"
   ]
  },
  {
   "cell_type": "code",
   "execution_count": 107,
   "id": "c247ff67",
   "metadata": {},
   "outputs": [
    {
     "data": {
      "text/plain": [
       "<AxesSubplot:>"
      ]
     },
     "execution_count": 107,
     "metadata": {},
     "output_type": "execute_result"
    },
    {
     "data": {
      "image/png": "[encoded data removed]",
      "text/plain": [
       "<Figure size 1080x864 with 1 Axes>"
      ]
     },
     "metadata": {},
     "output_type": "display_data"
    }
   ],
   "source": [
    "# create a lineplot \n",
    "sns.lineplot(x='appointment_month', y='count_of_appointments', hue='service_setting', data=nc_ss_spring, ci=None)"
   ]
  },
  {
   "cell_type": "markdown",
   "id": "d70b95c0",
   "metadata": {},
   "source": [
    "# "
   ]
  },
  {
   "cell_type": "markdown",
   "id": "d3513fd2",
   "metadata": {},
   "source": [
    "# Assignment activity 5"
   ]
  },
  {
   "cell_type": "markdown",
   "id": "347b2229",
   "metadata": {},
   "source": [
    "### Analyse tweets from Twitter with hashtags related to healthcare in the UK."
   ]
  },
  {
   "cell_type": "code",
   "execution_count": 109,
   "id": "06bc19bb",
   "metadata": {},
   "outputs": [],
   "source": [
    "# Libraries and settings needed for analysis\n",
    "import pandas as pd\n",
    "import seaborn as sns\n",
    "\n",
    "# Set figure size.\n",
    "sns.set(rc={'figure.figsize':(15, 12)})\n",
    "\n",
    "# Set the plot style as white.\n",
    "sns.set_style('white')\n",
    "\n",
    "# Maximum column width to display\n",
    "pd.options.display.max_colwidth = 200"
   ]
  },
  {
   "cell_type": "code",
   "execution_count": 7,
   "id": "558dec8e",
   "metadata": {},
   "outputs": [
    {
     "data": {
      "text/html": [
       "<div>\n",
       "<style scoped>\n",
       "    .dataframe tbody tr th:only-of-type {\n",
       "        vertical-align: middle;\n",
       "    }\n",
       "\n",
       "    .dataframe tbody tr th {\n",
       "        vertical-align: top;\n",
       "    }\n",
       "\n",
       "    .dataframe thead th {\n",
       "        text-align: right;\n",
       "    }\n",
       "</style>\n",
       "<table border=\"1\" class=\"dataframe\">\n",
       "  <thead>\n",
       "    <tr style=\"text-align: right;\">\n",
       "      <th></th>\n",
       "      <th>tweet_id</th>\n",
       "      <th>tweet_retweet_count</th>\n",
       "      <th>tweet_favorite_count</th>\n",
       "    </tr>\n",
       "  </thead>\n",
       "  <tbody>\n",
       "    <tr>\n",
       "      <th>count</th>\n",
       "      <td>1.174000e+03</td>\n",
       "      <td>1174.000000</td>\n",
       "      <td>1174.00000</td>\n",
       "    </tr>\n",
       "    <tr>\n",
       "      <th>mean</th>\n",
       "      <td>1.567612e+18</td>\n",
       "      <td>8.629472</td>\n",
       "      <td>0.37138</td>\n",
       "    </tr>\n",
       "    <tr>\n",
       "      <th>std</th>\n",
       "      <td>2.427553e+13</td>\n",
       "      <td>29.784675</td>\n",
       "      <td>2.04470</td>\n",
       "    </tr>\n",
       "    <tr>\n",
       "      <th>min</th>\n",
       "      <td>1.567574e+18</td>\n",
       "      <td>0.000000</td>\n",
       "      <td>0.00000</td>\n",
       "    </tr>\n",
       "    <tr>\n",
       "      <th>25%</th>\n",
       "      <td>1.567590e+18</td>\n",
       "      <td>0.000000</td>\n",
       "      <td>0.00000</td>\n",
       "    </tr>\n",
       "    <tr>\n",
       "      <th>50%</th>\n",
       "      <td>1.567611e+18</td>\n",
       "      <td>1.000000</td>\n",
       "      <td>0.00000</td>\n",
       "    </tr>\n",
       "    <tr>\n",
       "      <th>75%</th>\n",
       "      <td>1.567633e+18</td>\n",
       "      <td>3.000000</td>\n",
       "      <td>0.00000</td>\n",
       "    </tr>\n",
       "    <tr>\n",
       "      <th>max</th>\n",
       "      <td>1.567655e+18</td>\n",
       "      <td>303.000000</td>\n",
       "      <td>42.00000</td>\n",
       "    </tr>\n",
       "  </tbody>\n",
       "</table>\n",
       "</div>"
      ],
      "text/plain": [
       "           tweet_id  tweet_retweet_count  tweet_favorite_count\n",
       "count  1.174000e+03          1174.000000            1174.00000\n",
       "mean   1.567612e+18             8.629472               0.37138\n",
       "std    2.427553e+13            29.784675               2.04470\n",
       "min    1.567574e+18             0.000000               0.00000\n",
       "25%    1.567590e+18             0.000000               0.00000\n",
       "50%    1.567611e+18             1.000000               0.00000\n",
       "75%    1.567633e+18             3.000000               0.00000\n",
       "max    1.567655e+18           303.000000              42.00000"
      ]
     },
     "execution_count": 7,
     "metadata": {},
     "output_type": "execute_result"
    }
   ],
   "source": [
    "# Load the data set.\n",
    "tweets = pd.read_csv('tweets.csv')\n",
    "tweets.describe()"
   ]
  },
  {
   "cell_type": "code",
   "execution_count": 8,
   "id": "2fc4de15",
   "metadata": {},
   "outputs": [
    {
     "name": "stdout",
     "output_type": "stream",
     "text": [
      "<class 'pandas.core.frame.DataFrame'>\n",
      "RangeIndex: 1174 entries, 0 to 1173\n",
      "Data columns (total 10 columns):\n",
      " #   Column                   Non-Null Count  Dtype \n",
      "---  ------                   --------------  ----- \n",
      " 0   tweet_id                 1174 non-null   int64 \n",
      " 1   tweet_full_text          1174 non-null   object\n",
      " 2   tweet_entities           1174 non-null   object\n",
      " 3   tweet_entities_hashtags  1007 non-null   object\n",
      " 4   tweet_metadata           1174 non-null   object\n",
      " 5   tweet_retweet_count      1174 non-null   int64 \n",
      " 6   tweet_favorite_count     1174 non-null   int64 \n",
      " 7   tweet_favorited          1174 non-null   bool  \n",
      " 8   tweet_retweeted          1174 non-null   bool  \n",
      " 9   tweet_lang               1174 non-null   object\n",
      "dtypes: bool(2), int64(3), object(5)\n",
      "memory usage: 75.8+ KB\n"
     ]
    }
   ],
   "source": [
    "# View the info \n",
    "tweets.info()"
   ]
  },
  {
   "cell_type": "code",
   "execution_count": 151,
   "id": "b9592370",
   "metadata": {},
   "outputs": [
    {
     "data": {
      "text/plain": [
       "count                                                     1174\n",
       "unique                                                       1\n",
       "top       {'iso_language_code': 'en', 'result_type': 'recent'}\n",
       "freq                                                      1174\n",
       "Name: tweet_metadata, dtype: object"
      ]
     },
     "execution_count": 151,
     "metadata": {},
     "output_type": "execute_result"
    }
   ],
   "source": [
    "# Explore the metadata.\n",
    "\n",
    "# Load the data set.\n",
    "tweets = pd.read_csv('tweets.csv')\n",
    "# describe the metadata column\n",
    "tweets['tweet_metadata'].describe()"
   ]
  },
  {
   "cell_type": "code",
   "execution_count": 152,
   "id": "2e514d58",
   "metadata": {},
   "outputs": [
    {
     "data": {
      "text/plain": [
       "0      526\n",
       "1      215\n",
       "2      114\n",
       "3       70\n",
       "5       35\n",
       "4       27\n",
       "7       18\n",
       "12      16\n",
       "8       15\n",
       "73      14\n",
       "9       13\n",
       "6       12\n",
       "208     12\n",
       "35      10\n",
       "37       6\n",
       "11       6\n",
       "10       5\n",
       "53       5\n",
       "44       4\n",
       "150      4\n",
       "63       4\n",
       "76       3\n",
       "85       3\n",
       "41       3\n",
       "62       3\n",
       "207      3\n",
       "68       3\n",
       "78       2\n",
       "23       2\n",
       "24       2\n",
       "72       2\n",
       "16       2\n",
       "13       1\n",
       "49       1\n",
       "48       1\n",
       "15       1\n",
       "107      1\n",
       "14       1\n",
       "79       1\n",
       "20       1\n",
       "39       1\n",
       "19       1\n",
       "303      1\n",
       "57       1\n",
       "40       1\n",
       "54       1\n",
       "169      1\n",
       "Name: tweet_retweet_count, dtype: int64"
      ]
     },
     "execution_count": 152,
     "metadata": {},
     "output_type": "execute_result"
    }
   ],
   "source": [
    "import IPython.display as display \n",
    "# value count the retweet count column \n",
    "tweets['tweet_retweet_count'].value_counts()"
   ]
  },
  {
   "cell_type": "code",
   "execution_count": 10,
   "id": "fba7a49c",
   "metadata": {},
   "outputs": [
    {
     "data": {
      "text/plain": [
       "{'iso_language_code': 'en', 'result_type': 'recent'}    1174\n",
       "Name: tweet_metadata, dtype: int64"
      ]
     },
     "execution_count": 10,
     "metadata": {},
     "output_type": "execute_result"
    }
   ],
   "source": [
    "# value count the metadata \n",
    "tweets['tweet_metadata'].value_counts()\n"
   ]
  },
  {
   "cell_type": "code",
   "execution_count": 11,
   "id": "8cc81341",
   "metadata": {},
   "outputs": [
    {
     "data": {
      "text/plain": [
       "0    {'iso_language_code': 'en', 'result_type': 'recent'}\n",
       "1    {'iso_language_code': 'en', 'result_type': 'recent'}\n",
       "2    {'iso_language_code': 'en', 'result_type': 'recent'}\n",
       "3    {'iso_language_code': 'en', 'result_type': 'recent'}\n",
       "4    {'iso_language_code': 'en', 'result_type': 'recent'}\n",
       "Name: tweet_metadata, dtype: object"
      ]
     },
     "execution_count": 11,
     "metadata": {},
     "output_type": "execute_result"
    }
   ],
   "source": [
    "# view the head\n",
    "tweets['tweet_metadata'].head()"
   ]
  },
  {
   "cell_type": "code",
   "execution_count": null,
   "id": "e2fd27e3",
   "metadata": {},
   "outputs": [],
   "source": [
    "# Would it be useful to only look at retweeted and favourite tweet messages?\n",
    "# Explain your answer.\n",
    "\n",
    "It would be useful to only look at retweeted and favourite tweet messages because it acts as an indication for how popular an opinion or idea is - therefore making retweeted and favourited tweets easier to codify. Retweets can also be used as a way to measure data quality e.g. the more retweets, the more likely the data to be considered valid. "
   ]
  },
  {
   "cell_type": "code",
   "execution_count": 12,
   "id": "43a30a2f",
   "metadata": {},
   "outputs": [
    {
     "data": {
      "text/plain": [
       "0       As Arkansas’ first Comprehensive Stroke Certified Center, UAMS provides Arkansans with access to the most advanced stoke care. Join us in our mission to make a difference in the health and well-be...\n",
       "1                                                                   RT @AndreaGrammer: Work-life balance is at the foundation of how decisions are made and where #PremiseHealth is headed.  We're #hiring for…\n",
       "2                                                                RT @OntarioGreens: $10 billion can go a long way to fixing our broken #Healthcare system.\\n\\nYet Doug Ford would rather spend it ALL on a hig…\n",
       "3                                                                  RT @modrnhealthcr: 🚨#NEW:🚨 Insurance companies are figuring out the best ways to collect information about members’ race and ethnicity data…\n",
       "4       ICYMI: Our recent blogs on Cybersecurity in Accounting https://t.co/4nnK0FiVVL and Digital Transformation in Healthcare Finance https://t.co/jIqn52lHD3 are a great read, take a look!\\n\\n#blogs #di...\n",
       "                                                                                                         ...                                                                                                   \n",
       "1169                                                             RT @PotomacPhotonic: Potomac #Innovation Report:  #precisionFabrication techniques Optimize #Microfluidic Mixing of Viscous Fluids \\n\\n#manuf…\n",
       "1170    Not a cent towards workers who would like to advance their training, especially those already employed by SHA or who for various reasons cannot obtain a student loan. Half of our department applie...\n",
       "1171    The @hfmaorg Region 9 presents \"The Value of ESG to the Healthcare Industry\" and our own Kris Russell and Ron Present will be the key speakers. This #webinar will be taking place 9/13 and will exp...\n",
       "1172                                      Happy physiotherapy 🩺 day 🎉..\\n#bpt #physiotherapy \\n#HealthyNation #healthcare \\n#medicalcare \\n#csjmu .\\n@WHO \\n@MoHFW_INDIA \\n@nitish_0210 https://t.co/NQHdIoYymC\n",
       "1173                                                               RT @KimcoStaffing: Apply now to work for #MediQuestStaffing as EVS - #Hospital - 1st #shift -  Interviewing Now!! (#NewportBeach) #job http…\n",
       "Name: tweet_full_text, Length: 1174, dtype: object"
      ]
     },
     "execution_count": 12,
     "metadata": {},
     "output_type": "execute_result"
    }
   ],
   "source": [
    "# create a dataframe for full text tweets \n",
    "tweet_text=tweets['tweet_full_text']\n",
    "tweet_text"
   ]
  },
  {
   "cell_type": "code",
   "execution_count": 13,
   "id": "acc4b533",
   "metadata": {},
   "outputs": [],
   "source": [
    "tags = []"
   ]
  },
  {
   "cell_type": "code",
   "execution_count": 14,
   "id": "ce3211b3",
   "metadata": {},
   "outputs": [],
   "source": [
    "# Loop through the messages, and create a list of values containing the # symbol.\n",
    "for y in [x.split(' ') for x in tweets['tweet_full_text'].values]:\n",
    "    for z in y:\n",
    "        if '#' in z:\n",
    "            # Change to lowercase.\n",
    "            tags.append(z.lower())\n"
   ]
  },
  {
   "cell_type": "code",
   "execution_count": 15,
   "id": "111ee38c",
   "metadata": {},
   "outputs": [
    {
     "data": {
      "text/plain": [
       "['#healthcare',\n",
       " '#premisehealth',\n",
       " '#hiring',\n",
       " '#healthcare',\n",
       " '🚨#new:🚨',\n",
       " 'look!\\n\\n#blogs',\n",
       " '#digitaltransformation',\n",
       " '#cybersecurity',\n",
       " '#accounting',\n",
       " '#finance',\n",
       " '#healthcare',\n",
       " 'https://t.co/jrgqeqdme4\\n.\\n#firstcoastcna',\n",
       " '#cnaexam',\n",
       " '#cnaexampreparation',\n",
       " '#jacksonville',\n",
       " '#cnatraining',\n",
       " '#nurse',\n",
       " '#nursing',\n",
       " '#nurselife',\n",
       " '#nursepractitioner',\n",
       " '#nurseproblems',\n",
       " '#nursingschool',\n",
       " '#healthcare',\n",
       " '🚨#new:🚨',\n",
       " '#disparities.',\n",
       " '@karahartnett\\n#healthcare',\n",
       " '#alert',\n",
       " '#insurance',\n",
       " '#data\\nhttps://t.co/h9hlamr7p9',\n",
       " '#healthcare',\n",
       " '#healthcare',\n",
       " '❤️\\n\\n#healthcare',\n",
       " '#healthcare',\n",
       " '#hcldr',\n",
       " '#premisehealth',\n",
       " '#hiring',\n",
       " '#premisehealth',\n",
       " '#hiring',\n",
       " '#healthcare',\n",
       " '#qualitypatientcare',\n",
       " '#jobs',\n",
       " '#job',\n",
       " '#ascp2022',\n",
       " '#ascp100.',\n",
       " '#healthcare',\n",
       " '#healthsecretary',\n",
       " '#healthcare',\n",
       " '#ai,',\n",
       " '#sdoh,',\n",
       " '#healthcare',\n",
       " '\\nhttps://t.co/ewe7jntj1e\\n#tropicana',\n",
       " '#real',\n",
       " '#juice',\n",
       " '#healthcare',\n",
       " '#watch',\n",
       " '#worms',\n",
       " '#fruits',\n",
       " '#healthtips',\n",
       " '#tips',\n",
       " '#healthcare',\n",
       " '#thewoodlands,',\n",
       " '#healthcare',\n",
       " '#chicago,',\n",
       " '#healthcare',\n",
       " '#telehealth',\n",
       " '#healthcare',\n",
       " '#virtualcare',\n",
       " '#mediqueststaffing',\n",
       " '#hospital',\n",
       " '#shift',\n",
       " '(#newportbeach)',\n",
       " '#job',\n",
       " '#mediqueststaffing',\n",
       " '#hospital',\n",
       " '#shift',\n",
       " '(#newportbeach)',\n",
       " '#job',\n",
       " '#jobs',\n",
       " '#employment',\n",
       " '#healthcare',\n",
       " '#job',\n",
       " '#hiring',\n",
       " '#antiracist',\n",
       " '#healthcare:',\n",
       " '#newhealthcare',\n",
       " '#healthcare',\n",
       " '#hospitals',\n",
       " '#physicians',\n",
       " 'of\\xa0#healthcare\\xa0delivery:',\n",
       " '#newhealthcare\\xa0',\n",
       " '#healthcare',\n",
       " '#cloud',\n",
       " '#ehr',\n",
       " '#datasecurity',\n",
       " '#options',\n",
       " '#optionstrading',\n",
       " '#pfizer',\n",
       " '#optionsflow',\n",
       " '#stocks',\n",
       " '#stock',\n",
       " '#stockmarket',\n",
       " '#investing',\n",
       " '#investment',\n",
       " '#healthcare',\n",
       " '#healthcare',\n",
       " '#womenleaders',\n",
       " '#healthcare',\n",
       " '#albuquerque,',\n",
       " '#healthcare',\n",
       " '#healthcare',\n",
       " 'future\\n\\nhttps://t.co/hctoc1vady\\n\\n#telehealth',\n",
       " '#telemedicine',\n",
       " '#healthcare',\n",
       " '#therapy',\n",
       " '#primarycare',\n",
       " '#home',\n",
       " '#hit',\n",
       " '#covid19',\n",
       " '#usa',\n",
       " '#selfcare',\n",
       " '#coronavirus',\n",
       " '#photooftheday',\n",
       " '#healthcare.',\n",
       " '#health.',\n",
       " '#internalmedicine',\n",
       " '#tipsfornewdocs',\n",
       " '#meded',\n",
       " '#medtwitter',\n",
       " '#medicine',\n",
       " '#medical',\n",
       " '#medica…',\n",
       " '#healthcare',\n",
       " '#covid!',\n",
       " '#stra…',\n",
       " '#strategy',\n",
       " '#competitiveintellige…',\n",
       " '#strate…',\n",
       " '#strategy',\n",
       " '#competi…',\n",
       " '#strategy',\n",
       " '#competitiveintelligence',\n",
       " '#marketing',\n",
       " '#healthcare',\n",
       " '#biotech',\n",
       " '#pharma',\n",
       " '#competitivemarketing',\n",
       " '#pharmaceutical',\n",
       " '#strategy',\n",
       " '#competitiveintelligence',\n",
       " '#marketing',\n",
       " '#pharmaceutical',\n",
       " '#competitivemarketing',\n",
       " '#biotech',\n",
       " '#healthcare',\n",
       " '#pharma',\n",
       " '#internalmedicine',\n",
       " '#tipsfornewdocs',\n",
       " '#meded',\n",
       " '#medtwitter',\n",
       " '#medicine',\n",
       " '#medical',\n",
       " '#medica…',\n",
       " '#strategy',\n",
       " '#competitiveintelligence',\n",
       " '#marketing',\n",
       " '#pharmaceutical',\n",
       " '#biotech',\n",
       " '#competitivemarketing',\n",
       " '#pharma',\n",
       " '#healthcare',\n",
       " '#strategy',\n",
       " '#competitiveintelligence',\n",
       " '#marketing',\n",
       " '#pharmaceutical',\n",
       " '#pharma',\n",
       " '#biotech',\n",
       " '#competitivemarketing',\n",
       " '#healthcare',\n",
       " '#strategy',\n",
       " '#competitiveintelligence',\n",
       " '#marketing',\n",
       " '#healthcare',\n",
       " '#pharmaceutical',\n",
       " '#competitivemarketing',\n",
       " '#pharma',\n",
       " '#biotech',\n",
       " '#strategy',\n",
       " '#competitiveintelligence',\n",
       " '#marketing',\n",
       " '#healthcare',\n",
       " '#biotech',\n",
       " '#competitivemarketing',\n",
       " '#pharma',\n",
       " '#pharmaceutical',\n",
       " '#strategy',\n",
       " '#competitiveintelligence',\n",
       " '#marketing',\n",
       " '#pharma',\n",
       " '#healthcare',\n",
       " '#biotech',\n",
       " '#competitivemarketing',\n",
       " '#pharmaceutical',\n",
       " '#strategy',\n",
       " '#competitiveintelligence',\n",
       " '#marketing',\n",
       " '#pharma',\n",
       " '#competitivemarketing',\n",
       " '#pharmaceutical',\n",
       " '#healthcare',\n",
       " '#biotech',\n",
       " '#strategy',\n",
       " '#competitiveintelligence',\n",
       " '#marketing',\n",
       " '#healthcare',\n",
       " '#biotech',\n",
       " '#pharma',\n",
       " '#productmarketing',\n",
       " '#pharmaceutical',\n",
       " '#strategy',\n",
       " '#competitiveintelligence',\n",
       " '#marketing',\n",
       " '#productmarketing',\n",
       " '#healthcare',\n",
       " '#pharma',\n",
       " '#biotech',\n",
       " '#pharmaceutical',\n",
       " '#strategy',\n",
       " '#competitiveintelligence',\n",
       " '#marketing',\n",
       " '#biotech',\n",
       " '#pharmaceutical',\n",
       " '#healthcare',\n",
       " '#pharma',\n",
       " '#productmarketing',\n",
       " '#lenexa,',\n",
       " '#healthcare',\n",
       " '#healthcare',\n",
       " 'delivery.\\nhttps://t.co/etq4tbb6vu\\n#hippotechnologies',\n",
       " '#virtualcare',\n",
       " '#headset',\n",
       " '#wearabletech',\n",
       " '#wearables',\n",
       " '#healthcare',\n",
       " '#firstresponder',\n",
       " '#teletriage',\n",
       " '#worldhealthorganization',\n",
       " '#ascp2022',\n",
       " '#ascp100.',\n",
       " '#healthcare.',\n",
       " '\\n\\n#healthcare',\n",
       " '#revenuecycle',\n",
       " '#healthit',\n",
       " '#saskatchewan',\n",
       " 'https://t.co/xxahgpsvsz\\n#healthcare',\n",
       " '#business',\n",
       " '#datasecurity',\n",
       " '#compliance\\ncloud',\n",
       " '#vaccine',\n",
       " '#covid',\n",
       " '#coronavirus',\n",
       " '#pandemic',\n",
       " '#health',\n",
       " '#corona',\n",
       " '#vaccines',\n",
       " '#vaccination',\n",
       " '#virus',\n",
       " '#medicine',\n",
       " '#lockdown',\n",
       " '#science',\n",
       " '#qua…',\n",
       " '#vaccine',\n",
       " '#covid',\n",
       " '#coronavirus',\n",
       " '#pandemic',\n",
       " '#health',\n",
       " '#corona',\n",
       " '#vaccines',\n",
       " '#vaccination',\n",
       " '#virus',\n",
       " '#medicine',\n",
       " '#lockdown',\n",
       " '#science',\n",
       " '#qua…',\n",
       " '#vaccine',\n",
       " '#covid',\n",
       " '#coronavirus',\n",
       " '#pandemic',\n",
       " '#health',\n",
       " '#corona',\n",
       " '#vaccines',\n",
       " '#vaccination',\n",
       " '#virus',\n",
       " '#medicine',\n",
       " '#lockdown',\n",
       " '#science',\n",
       " '#qua…',\n",
       " '#epic',\n",
       " '#identitybridge…',\n",
       " '#epic',\n",
       " '#identitybridge…',\n",
       " '#medicaid',\n",
       " '#heartfailure',\n",
       " '#barostim',\n",
       " '@lluhealth!\\n\\n#outsmarttheheart',\n",
       " '#cardiology',\n",
       " '#healthcare',\n",
       " '#medtech',\n",
       " '#innovation',\n",
       " '#familydoctor.',\n",
       " '#globalaussieawards',\n",
       " '#vr',\n",
       " '#ar',\n",
       " '#healthcare',\n",
       " '#healthcare',\n",
       " 'itself\\n\\n#cdnpoli',\n",
       " '#holyoke,',\n",
       " '#healthcare',\n",
       " '#healthcare',\n",
       " '#mammogr…',\n",
       " '#healthcare',\n",
       " '#speechpathology',\n",
       " '#healthcare',\n",
       " 'https://t.co/bmvwpsfker\\n\\n#fitness',\n",
       " '#beuty',\n",
       " '#healthcare',\n",
       " '#fitnesslife',\n",
       " '#beauty',\n",
       " '#beautytips',\n",
       " '#beaut',\n",
       " '#healthcare',\n",
       " '#birmingham,',\n",
       " '#privacyofficer',\n",
       " '#healthcare',\n",
       " '#webinar',\n",
       " 'come!!\\n\\n#race4…',\n",
       " '#healthcareisahumanright',\n",
       " '#prep',\n",
       " '#hiv',\n",
       " '#healthcare',\n",
       " '#bluecrew',\n",
       " '#voteblue',\n",
       " '#nursetwitter',\n",
       " '#healthcare',\n",
       " '#epic',\n",
       " '#identitybridge',\n",
       " '\\n\\n#itsecurity',\n",
       " '#cybersecurity',\n",
       " '#iam',\n",
       " '#datasecurity',\n",
       " '#healthcare',\n",
       " '#hipaa',\n",
       " '#healthcare',\n",
       " '#prep',\n",
       " '#healthcare',\n",
       " 'https://t.co/luvbnj8opf\\n\\n#healthcare',\n",
       " '#innovation',\n",
       " '#customerexperience',\n",
       " '#healthcare',\n",
       " '#healthcare',\n",
       " '#security',\n",
       " '#healthcare',\n",
       " '#centralized',\n",
       " '\\n#humanrights',\n",
       " '#healthcare',\n",
       " '\\n#truth',\n",
       " '#truth',\n",
       " '\\n#nazi',\n",
       " '#vaccine',\n",
       " '#covid',\n",
       " '#coronavirus',\n",
       " '#pandemic',\n",
       " '#health',\n",
       " '#corona',\n",
       " '#vaccines',\n",
       " '#vaccination',\n",
       " '#virus',\n",
       " '#medicine',\n",
       " '#lockdown',\n",
       " '#science',\n",
       " '#qua…',\n",
       " '#vaccine',\n",
       " '#covid',\n",
       " '#coronavirus',\n",
       " '#pandemic',\n",
       " '#health',\n",
       " '#corona',\n",
       " '#vaccines',\n",
       " '#vaccination',\n",
       " '#virus',\n",
       " '#medicine',\n",
       " '#lockdown',\n",
       " '#science',\n",
       " '#qua…',\n",
       " '#vaccine',\n",
       " '#covid',\n",
       " '#coronavirus',\n",
       " '#pandemic',\n",
       " '#health',\n",
       " '#corona',\n",
       " '#vaccines',\n",
       " '#vaccination',\n",
       " '#virus',\n",
       " '#medicine',\n",
       " '#lockdown',\n",
       " '#science',\n",
       " '#quarantine',\n",
       " '#influenza',\n",
       " '#news',\n",
       " '#doctor',\n",
       " '#stayhome',\n",
       " '#healthcare',\n",
       " '#who',\n",
       " '#flu',\n",
       " '#immunization',\n",
       " '#truth',\n",
       " '#social-distancing',\n",
       " '\\n#detroit',\n",
       " '#vaccine',\n",
       " '#covid',\n",
       " '#coronavirus',\n",
       " '#pandemic',\n",
       " '#health',\n",
       " '#corona',\n",
       " '#vaccines',\n",
       " '#vaccination',\n",
       " '#virus',\n",
       " '#medicine',\n",
       " '#lockdown',\n",
       " '#science',\n",
       " '#qua…',\n",
       " '#vaccine',\n",
       " '#covid',\n",
       " '#coronavirus',\n",
       " '#pandemic',\n",
       " '#health',\n",
       " '#corona',\n",
       " '#vaccines',\n",
       " '#vaccination',\n",
       " '#virus',\n",
       " '#medicine',\n",
       " '#lockdown',\n",
       " '#science',\n",
       " '#quarantine',\n",
       " '#influenza',\n",
       " '#news',\n",
       " '#doctor',\n",
       " '#stayhome',\n",
       " '#healthcare',\n",
       " '#who',\n",
       " '#flu',\n",
       " '#immunization',\n",
       " '#truth',\n",
       " '#social-distancing',\n",
       " '\\n#detroit',\n",
       " '#vaccine',\n",
       " '#covid',\n",
       " '#coronavirus',\n",
       " '#pandemic',\n",
       " '#health',\n",
       " '#corona',\n",
       " '#vaccines',\n",
       " '#vaccination',\n",
       " '#virus',\n",
       " '#medicine',\n",
       " '#lockdown',\n",
       " '#science',\n",
       " '#quarantine',\n",
       " '#influenza',\n",
       " '#news',\n",
       " '#doctor',\n",
       " '#stayhome',\n",
       " '#healthcare',\n",
       " '#who',\n",
       " '#flu',\n",
       " '#immunization',\n",
       " '#truth',\n",
       " '#social-distancing',\n",
       " '\\n#detroit',\n",
       " '#data',\n",
       " '#healthcare?',\n",
       " '#healthcare',\n",
       " '#healthcare',\n",
       " '#ontariohealthcare',\n",
       " '#healthcare',\n",
       " '#regulation',\n",
       " '#itsm',\n",
       " '#health',\n",
       " '#healthcare',\n",
       " '#tech…',\n",
       " '#healthcare',\n",
       " '#palliative',\n",
       " '#care',\n",
       " '#healthcare',\n",
       " '#congenital',\n",
       " '#cardiotwitter',\n",
       " '#doctors',\n",
       " '#hospital',\n",
       " '#clinics',\n",
       " '#health',\n",
       " '#healthcareit',\n",
       " '#ehealth',\n",
       " '#healthcare',\n",
       " '#healthcare',\n",
       " '#ai',\n",
       " '#healthcare',\n",
       " '#technology',\n",
       " '#soaak',\n",
       " '#healthcare',\n",
       " '#mentalhealth',\n",
       " '#therapy',\n",
       " '#anxiety',\n",
       " '#stress',\n",
       " '#emergingtech',\n",
       " '#coruzant',\n",
       " '#thedigitalexecutive',\n",
       " '#dental',\n",
       " '#practice',\n",
       " '#patients',\n",
       " 'team.\\nhttps://t.co/jt60d4ab4v\\n#dentalcare',\n",
       " '#dentistry',\n",
       " '#healthtech',\n",
       " '#healthcareit',\n",
       " '#healthcare',\n",
       " '#digitalhealth',\n",
       " '#healthcare',\n",
       " '#technology',\n",
       " '#healthcare',\n",
       " '#ontario',\n",
       " '#generalstrike',\n",
       " '#workersunite',\n",
       " '#onpoli',\n",
       " '#cdnpoli',\n",
       " '#education',\n",
       " '#healthcare',\n",
       " '#healthcare',\n",
       " '#chicago,',\n",
       " '#specialneedsparenting',\n",
       " '#healthcare',\n",
       " '\\n\\n#skincare',\n",
       " '#technology',\n",
       " '#cosmetics',\n",
       " '#beauty',\n",
       " '#healt…',\n",
       " '#healthcare',\n",
       " '#healthcare',\n",
       " '#ai',\n",
       " '#cheverly,',\n",
       " '#healthcare',\n",
       " '\\n#lifescience',\n",
       " '#healthcare',\n",
       " '#quantiphi',\n",
       " '#ai-led',\n",
       " '#medicalimaging:',\n",
       " '\\n#solvingwhatmatters',\n",
       " '#healthcare',\n",
       " '#aiinhealthcare',\n",
       " '#ai',\n",
       " '#healthcare',\n",
       " '#drugdiscovery\\n@closedloopai',\n",
       " '#patientdata…',\n",
       " '#monkeypox',\n",
       " '\\n#monkeypoxcases',\n",
       " '#monkeypoxvaccine',\n",
       " '#deathrate',\n",
       " '#vaccine',\n",
       " '#healthcare',\n",
       " '#monkeypox',\n",
       " '\\n#monkeypoxcases',\n",
       " '#monkeypoxvaccine',\n",
       " '#deathrate',\n",
       " '#vaccine',\n",
       " '#healthcare',\n",
       " '#antiracist',\n",
       " '#healthcare:',\n",
       " '#örebro',\n",
       " '#healthcare',\n",
       " '#career',\n",
       " '–#transportation/#construction/#telecommunications/#lawenforcement/#healthcare',\n",
       " '#veterans',\n",
       " '#healthcare',\n",
       " '#mammogram',\n",
       " '#mobilehealth',\n",
       " '#healthsecutity',\n",
       " '#breastcancerawareness',\n",
       " '#ruralhealth',\n",
       " '#healthcare',\n",
       " '\\n#medicine',\n",
       " '#doctor',\n",
       " '#healthcare…',\n",
       " '#primarycare',\n",
       " '#healthcare',\n",
       " '#maryland',\n",
       " '#healthcare,',\n",
       " '#healthcare',\n",
       " '#covid19',\n",
       " 'further👉https://t.co/zkx4vl4sxf\\n\\n#clubbing',\n",
       " '#nail',\n",
       " '#diseases',\n",
       " '#health',\n",
       " '#healthcare',\n",
       " '#healthylifestyle',\n",
       " '\\n\\nhttps://t.co/n8mboeqnbk\\n\\n#healthcare',\n",
       " '#personalfinance',\n",
       " '#medical',\n",
       " '#healthcare…',\n",
       " '#ai',\n",
       " '#healthcare',\n",
       " '#drugdiscovery\\n@closedloopai',\n",
       " '#patientdata\\n@aitherightway',\n",
       " '#eyedisease\\n@cleerly_inc',\n",
       " '#imaging\\n@owkinscience',\n",
       " '#personalizedmedicine\\n@deepcell_inc',\n",
       " '#cellbiology',\n",
       " '#research',\n",
       " '#memphis:',\n",
       " '#media',\n",
       " '#socialmedia',\n",
       " '#healthcare',\n",
       " '#business.',\n",
       " 'firm.\\n\\n#healthcare',\n",
       " '#medical',\n",
       " '#healthcare',\n",
       " '#n95',\n",
       " '#masks',\n",
       " '#cdnpoli',\n",
       " '#healthcare',\n",
       " '#goals',\n",
       " '#potential.',\n",
       " '#nursingcare',\n",
       " '#linkinbio',\n",
       " '#nursing',\n",
       " '#ohio',\n",
       " '#health',\n",
       " '#healthcare.',\n",
       " 'planting...\\n\\n#appleevent',\n",
       " '#iphone',\n",
       " '#ems',\n",
       " '#healthcare',\n",
       " '#genzeon',\n",
       " '#healthcare',\n",
       " '#automation',\n",
       " 't-square\\n#financialastrology',\n",
       " '#gold',\n",
       " '#nasdaq',\n",
       " '#hea…',\n",
       " '#healthcare',\n",
       " '#healthcare',\n",
       " '#chicago,',\n",
       " '#substanceabuse',\n",
       " '#healthcare',\n",
       " '#healthcare.',\n",
       " 'needs.\\n\\n#appleevent',\n",
       " '#match',\n",
       " '#healthcare',\n",
       " '#education',\n",
       " '#usa',\n",
       " '#ruralhealth',\n",
       " 'system!#match2023',\n",
       " '#match2023madness',\n",
       " '#usmle',\n",
       " '#img',\n",
       " '#cloud',\n",
       " '#healthcare',\n",
       " '#healthcare',\n",
       " '#chicago,',\n",
       " '#healthcare',\n",
       " '#saskatchewan',\n",
       " '#ai',\n",
       " '#healthcare!\\n\\ninfographic',\n",
       " '@ingliguori\\n\\n#python',\n",
       " '#nodejs',\n",
       " '#machinelearning',\n",
       " '#100daysofmlcode',\n",
       " '#html5',\n",
       " '#rstats',\n",
       " '#s…',\n",
       " '#healthcare',\n",
       " '#losangeles,',\n",
       " '\\n\\n#comedy',\n",
       " '#adulting',\n",
       " '#healthcare',\n",
       " '#esmo22:',\n",
       " '#esmo22:',\n",
       " '#ai',\n",
       " '#healthcare!\\n\\ninfographic',\n",
       " '@ingliguori\\n\\n#python',\n",
       " '#nodejs',\n",
       " '#machinelearning',\n",
       " '#100daysofmlcode',\n",
       " '#html5',\n",
       " '#rstats',\n",
       " '#s…',\n",
       " '#esmo22:',\n",
       " '#ai',\n",
       " '#healthcare!\\n\\ninfographic',\n",
       " '@ingliguori\\n\\n#python',\n",
       " '#nodejs',\n",
       " '#machinelearning',\n",
       " '#100daysofmlcode',\n",
       " '#html5',\n",
       " '#rstats',\n",
       " '#s…',\n",
       " '#esmo22:',\n",
       " '#ai',\n",
       " '#healthcare!\\n\\ninfographic',\n",
       " '@ingliguori\\n\\n#python',\n",
       " '#nodejs',\n",
       " '#machinelearning',\n",
       " '#100daysofmlcode',\n",
       " '#html5',\n",
       " '#rstats',\n",
       " '#s…',\n",
       " '#esmo22:',\n",
       " '#strategy',\n",
       " '#competitiveintelligence',\n",
       " '#marketing',\n",
       " '#healthcare',\n",
       " '#pharmaceutical',\n",
       " '#productmarketing',\n",
       " '#biotech',\n",
       " '#pharma',\n",
       " '#esmo22:',\n",
       " '#strategy',\n",
       " '#competitiveintelligence',\n",
       " '#marketing',\n",
       " '#pharma',\n",
       " '#biotech',\n",
       " '#productmarketing',\n",
       " '#healthcare',\n",
       " '#pharmaceutical',\n",
       " '#esmo22:',\n",
       " '#strategy',\n",
       " '#competitiveintelligence',\n",
       " '#marketing',\n",
       " '#healthcare',\n",
       " '#pharmaceutical',\n",
       " '#productmarketing',\n",
       " '#biotech',\n",
       " '#pharma',\n",
       " '#esmo22:',\n",
       " '#strategy',\n",
       " '#competitiveintelligence',\n",
       " '#marketing',\n",
       " '#productmarketing',\n",
       " '#biotech',\n",
       " '#healthcare',\n",
       " '#pharma',\n",
       " '#pharmaceutical',\n",
       " '#premisehealth',\n",
       " '#hiring',\n",
       " '#healthcare',\n",
       " '#qualitypatientcare',\n",
       " '#jobs',\n",
       " '#job',\n",
       " '#healthcare',\n",
       " '#doctors',\n",
       " '#mediqueststaffing',\n",
       " '#medical',\n",
       " '#assistant!',\n",
       " '(#suncity)',\n",
       " '#job',\n",
       " '#jobs',\n",
       " '#employment',\n",
       " '#healthcare',\n",
       " '#job',\n",
       " '#hiring',\n",
       " '#mediqueststaffing',\n",
       " '#jobsearch',\n",
       " '#portolavalley,',\n",
       " '#healthcare',\n",
       " 'open\\n\\n#gvwire',\n",
       " '#news',\n",
       " '#politics',\n",
       " '#healthcare',\n",
       " '#economy',\n",
       " '#tech',\n",
       " '#califor…',\n",
       " 'initiatives\\n\\n#healthcare',\n",
       " '#mentalhealth',\n",
       " '#pandemic',\n",
       " '#capitalism',\n",
       " 'us.\\n\\n#infrastructure',\n",
       " '\\n#climateemergency',\n",
       " '\\n#utilities',\n",
       " '\\n#foodinsecurity\\n#water\\n#healthcare',\n",
       " '#buffalo,',\n",
       " '#healthcare',\n",
       " '#womeninmedicine',\n",
       " '#healthcare',\n",
       " '#womeninmedicine',\n",
       " '#healthcare',\n",
       " '#patientexperience',\n",
       " '#tech',\n",
       " '#healthcareprofessionals',\n",
       " '#5g',\n",
       " '#healthcare.',\n",
       " '#healthtech',\n",
       " '#healthcare',\n",
       " '#medtech',\n",
       " '#internalmedicine',\n",
       " '#tipsfornewdocs',\n",
       " '#meded',\n",
       " '#medtwitter',\n",
       " '#medicine',\n",
       " '#medical',\n",
       " '#medica…',\n",
       " '#hospitalstalktolovedones',\n",
       " '#education',\n",
       " '#ptsafet…',\n",
       " '#brexit',\n",
       " '#eu',\n",
       " '🌟\\n\\n👉👉https://t.co/de14oseogo\\n\\n#indianbusinesslisting',\n",
       " '#localsearchlisting',\n",
       " '#localseo',\n",
       " '#healthcare',\n",
       " '#lifestyle',\n",
       " '#theclairvoyantregister',\n",
       " '#dating',\n",
       " '#theadultentertainment',\n",
       " '#healthcare',\n",
       " '#chicago,',\n",
       " '#artificialintelligence’s',\n",
       " '#healthcare\\nby',\n",
       " 'https://t.co/rro0ioptmm\\n\\n#ai',\n",
       " '#iot',\n",
       " '#bigdata',\n",
       " '#machinelearning\\n\\ncc:',\n",
       " '\\nhttps://t.co/4h1wip7jbs\\n\\n#centurycollege',\n",
       " '#nursingassistant',\n",
       " '#nursingassistanttraining',\n",
       " '#na',\n",
       " '#nahha',\n",
       " '#hha',\n",
       " '#mnnursingassistant',\n",
       " '#healthcare',\n",
       " '#healthcarecareers',\n",
       " '#obra',\n",
       " '#online',\n",
       " '#hybridlearning',\n",
       " '#startups',\n",
       " '#leaders',\n",
       " '#investors.\\nhttps://t.co/ck3hgpimt4\\n#innovations',\n",
       " '#femtech',\n",
       " '#womenentrepreneurs',\n",
       " '#healthcare',\n",
       " '#robotics',\n",
       " '#5g',\n",
       " '#iot',\n",
       " '#healthcare.',\n",
       " '#mobileff',\n",
       " '#palmcoast,',\n",
       " '#healthcare',\n",
       " 'information\\n#healthcare',\n",
       " '#health',\n",
       " '\\n#santshriasharamjibapu',\n",
       " '#hiv/#aids',\n",
       " '“#christian”',\n",
       " '#universal',\n",
       " '#healthcare',\n",
       " '#healthcare?',\n",
       " '#hospitalstalktolovedones',\n",
       " '#education',\n",
       " '#ptsafet…',\n",
       " '#digitalhealth!\\n-',\n",
       " '#medtech',\n",
       " '#hcldr',\n",
       " '#healthcare',\n",
       " '(#matthews,',\n",
       " '#job',\n",
       " '#doctorofveterinarymedicine',\n",
       " '#doctorofveterinarymedicine',\n",
       " '#preventivecare',\n",
       " '#formularymanagement',\n",
       " '#medicalrecords',\n",
       " '#hospitaloperations',\n",
       " '#wellness',\n",
       " '#healthcare',\n",
       " '#patientcare',\n",
       " 'death.\\n\\n#healthfacts',\n",
       " '#healthylifestyletips',\n",
       " '#healthcare',\n",
       " '#toomuchsleep',\n",
       " '#sittingandhealth',\n",
       " '#sittingtoomuch',\n",
       " '#digitaltransformation',\n",
       " '#healthcare.\\n\\n#healthtech',\n",
       " '#iot',\n",
       " '#dataanalytics',\n",
       " '#data',\n",
       " '#medtech',\n",
       " '#tech',\n",
       " '#digitaltransformation',\n",
       " '#healthcare?',\n",
       " '#administration',\n",
       " '#heal…',\n",
       " '#healthcare',\n",
       " '#education.',\n",
       " '(#rockhill,',\n",
       " '#job',\n",
       " '#doctorofveterinarymedicine',\n",
       " '#doctorofveterinarymedicine',\n",
       " '#preventivecare',\n",
       " '#formularymanagement',\n",
       " '#medicalrecords',\n",
       " '#hospitaloperations',\n",
       " '#wellness',\n",
       " '#healthcare',\n",
       " '#patientcare',\n",
       " '#cloud',\n",
       " '#healthcare',\n",
       " '#cloud',\n",
       " '#healthcare',\n",
       " '#healthcare',\n",
       " '#patientcare',\n",
       " '#d2o',\n",
       " '#healthcare',\n",
       " '#artificialintelligence',\n",
       " '#supplychain',\n",
       " '#monkeypox',\n",
       " '\\n#monkeypoxcases',\n",
       " '#monkeypoxvaccine',\n",
       " '#deathrate',\n",
       " '#vaccine',\n",
       " '#healthcare',\n",
       " '#monkeypox',\n",
       " '\\n#monkeypoxcases',\n",
       " '#monkeypoxvaccine',\n",
       " '#deathrate',\n",
       " '#vaccine',\n",
       " '#healthcare',\n",
       " '(#charlotte,',\n",
       " '#job',\n",
       " '#doctorofveterinarymedicine',\n",
       " '#doctorofveterinarymedicine',\n",
       " '#preventivecare',\n",
       " '#formularymanagement',\n",
       " '#medicalrecords',\n",
       " '#hospitaloperations',\n",
       " '#wellness',\n",
       " '#healthcare',\n",
       " '#patientcare',\n",
       " '#healthcare',\n",
       " '#hiv/#aids',\n",
       " '“#christian”',\n",
       " '#universal',\n",
       " '#healthcare',\n",
       " '#faithregional',\n",
       " '#healthcare',\n",
       " '#healthcare',\n",
       " '#worcesterma',\n",
       " '(#winstonsalem,',\n",
       " '#job',\n",
       " '#doctorofveterinarymedicine',\n",
       " '#doctorofveterinarymedicine',\n",
       " '#preventivecare',\n",
       " '#formularymanagement',\n",
       " '#medicalrecords',\n",
       " '#hospitaloperations',\n",
       " '#wellness',\n",
       " '#healthcare',\n",
       " '#patientcare',\n",
       " '#hospitalstalktolovedones',\n",
       " '#education',\n",
       " '#ptsafet…',\n",
       " '#new:',\n",
       " '#coronavirusvaccines',\n",
       " 'to:\\nhttps://t.co/wukk9hk1vz\\n\\n#hospital',\n",
       " '#healthcare',\n",
       " '#catholic',\n",
       " '#catholichospitals',\n",
       " '#hospitalstalktolovedones',\n",
       " '#education',\n",
       " '#ptsafet…',\n",
       " 'implementation.\\n#healthcare',\n",
       " '#trangendercare',\n",
       " '#genderaffirmingcare',\n",
       " '#…',\n",
       " '(#wesleychapel,',\n",
       " '#job',\n",
       " '#doctorofveterinarymedicine',\n",
       " '#doctorofveterinarymedicine',\n",
       " '#preventivecare',\n",
       " '#formularymanagement',\n",
       " '#medicalrecords',\n",
       " '#hospitaloperations',\n",
       " '#wellness',\n",
       " '#healthcare',\n",
       " '#patientcare',\n",
       " '#healthcare?',\n",
       " '#hiv/#aids',\n",
       " '“#christian”',\n",
       " '#universal',\n",
       " '#healthcare',\n",
       " '#medicareforall',\n",
       " '#voteblue',\n",
       " '#votebluetosavedemocracy',\n",
       " '#healthcare',\n",
       " '#mutualaidrequest?',\n",
       " '#healthcare',\n",
       " '#healthcare',\n",
       " ...]"
      ]
     },
     "execution_count": 15,
     "metadata": {},
     "output_type": "execute_result"
    }
   ],
   "source": [
    "# Display the first 30 records.\n",
    "tags"
   ]
  },
  {
   "cell_type": "code",
   "execution_count": 16,
   "id": "9ead059d",
   "metadata": {},
   "outputs": [
    {
     "data": {
      "text/plain": [
       "['#healthcare',\n",
       " '#premisehealth',\n",
       " '#hiring',\n",
       " '#healthcare',\n",
       " '🚨#new:🚨',\n",
       " 'look!\\n\\n#blogs',\n",
       " '#digitaltransformation',\n",
       " '#cybersecurity',\n",
       " '#accounting',\n",
       " '#finance',\n",
       " '#healthcare',\n",
       " 'https://t.co/jrgqeqdme4\\n.\\n#firstcoastcna',\n",
       " '#cnaexam',\n",
       " '#cnaexampreparation',\n",
       " '#jacksonville',\n",
       " '#cnatraining',\n",
       " '#nurse',\n",
       " '#nursing',\n",
       " '#nurselife',\n",
       " '#nursepractitioner',\n",
       " '#nurseproblems',\n",
       " '#nursingschool',\n",
       " '#healthcare',\n",
       " '🚨#new:🚨',\n",
       " '#disparities.',\n",
       " '@karahartnett\\n#healthcare',\n",
       " '#alert',\n",
       " '#insurance',\n",
       " '#data\\nhttps://t.co/h9hlamr7p9']"
      ]
     },
     "execution_count": 16,
     "metadata": {},
     "output_type": "execute_result"
    }
   ],
   "source": [
    "tags[0:29]"
   ]
  },
  {
   "cell_type": "code",
   "execution_count": 164,
   "id": "3127ca56",
   "metadata": {},
   "outputs": [
    {
     "data": {
      "text/html": [
       "<div>\n",
       "<style scoped>\n",
       "    .dataframe tbody tr th:only-of-type {\n",
       "        vertical-align: middle;\n",
       "    }\n",
       "\n",
       "    .dataframe tbody tr th {\n",
       "        vertical-align: top;\n",
       "    }\n",
       "\n",
       "    .dataframe thead th {\n",
       "        text-align: right;\n",
       "    }\n",
       "</style>\n",
       "<table border=\"1\" class=\"dataframe\">\n",
       "  <thead>\n",
       "    <tr style=\"text-align: right;\">\n",
       "      <th></th>\n",
       "      <th>0</th>\n",
       "    </tr>\n",
       "  </thead>\n",
       "  <tbody>\n",
       "    <tr>\n",
       "      <th>0</th>\n",
       "      <td>#healthcare</td>\n",
       "    </tr>\n",
       "    <tr>\n",
       "      <th>1</th>\n",
       "      <td>#premisehealth</td>\n",
       "    </tr>\n",
       "    <tr>\n",
       "      <th>2</th>\n",
       "      <td>#hiring</td>\n",
       "    </tr>\n",
       "    <tr>\n",
       "      <th>3</th>\n",
       "      <td>#healthcare</td>\n",
       "    </tr>\n",
       "    <tr>\n",
       "      <th>4</th>\n",
       "      <td>🚨#new:🚨</td>\n",
       "    </tr>\n",
       "    <tr>\n",
       "      <th>...</th>\n",
       "      <td>...</td>\n",
       "    </tr>\n",
       "    <tr>\n",
       "      <th>4328</th>\n",
       "      <td>#mediqueststaffing</td>\n",
       "    </tr>\n",
       "    <tr>\n",
       "      <th>4329</th>\n",
       "      <td>#hospital</td>\n",
       "    </tr>\n",
       "    <tr>\n",
       "      <th>4330</th>\n",
       "      <td>#shift</td>\n",
       "    </tr>\n",
       "    <tr>\n",
       "      <th>4331</th>\n",
       "      <td>(#newportbeach)</td>\n",
       "    </tr>\n",
       "    <tr>\n",
       "      <th>4332</th>\n",
       "      <td>#job</td>\n",
       "    </tr>\n",
       "  </tbody>\n",
       "</table>\n",
       "<p>4333 rows × 1 columns</p>\n",
       "</div>"
      ],
      "text/plain": [
       "                       0\n",
       "0            #healthcare\n",
       "1         #premisehealth\n",
       "2                #hiring\n",
       "3            #healthcare\n",
       "4                🚨#new:🚨\n",
       "...                  ...\n",
       "4328  #mediqueststaffing\n",
       "4329           #hospital\n",
       "4330              #shift\n",
       "4331     (#newportbeach)\n",
       "4332                #job\n",
       "\n",
       "[4333 rows x 1 columns]"
      ]
     },
     "metadata": {},
     "output_type": "display_data"
    }
   ],
   "source": [
    "# Convert the series to a DataFrame in preparation for visualisation.\n",
    "\n",
    "import pandas as pd\n",
    "from IPython.display import display \n",
    "import numpy as np\n",
    "\n",
    "hashtags = pd.DataFrame(tags)\n",
    "display(hashtags)\n",
    "\n"
   ]
  },
  {
   "cell_type": "code",
   "execution_count": 139,
   "id": "1e03f41a",
   "metadata": {},
   "outputs": [
    {
     "data": {
      "text/plain": [
       "68"
      ]
     },
     "execution_count": 139,
     "metadata": {},
     "output_type": "execute_result"
    }
   ],
   "source": [
    "# Display records where the count is larger than 10.\n",
    "# keep relevant columns only\n",
    "\n",
    "df = pd.read_csv('tweets.csv')\n",
    "\n",
    "df1 = df[['tweet_id', 'tweet_entities_hashtags']]\n",
    "\n",
    " \n",
    "\n",
    "# Split up all hastags into new columns using ‘, ‘ as delimiter\n",
    "\n",
    "df_split = df1['tweet_entities_hashtags'].str.split(', ', expand=True)\n",
    "\n",
    " \n",
    "\n",
    "# Merge with tweet IDs\n",
    "\n",
    "df_id= df['tweet_id']\n",
    "\n",
    "df_2 = pd.concat((df_id, df_split), axis=1)\n",
    "\n",
    " \n",
    "\n",
    "# Drop tweets with 10 hashtags or less\n",
    "\n",
    "df_3=df_2.dropna(subset=[10])\n",
    "\n",
    "len(df_3.index)\n"
   ]
  },
  {
   "cell_type": "code",
   "execution_count": 178,
   "id": "6a672952",
   "metadata": {},
   "outputs": [
    {
     "data": {
      "text/plain": [
       "#healthcare                    599\n",
       "#Healthcare                    198\n",
       "#health                         68\n",
       "#HealthCare                     47\n",
       "#AI                             45\n",
       "#medicine                       42\n",
       "#job                            38\n",
       "#strategy                       31\n",
       "#medical                        30\n",
       "#MedTwitter                     25\n",
       "#competitiveintelligence        25\n",
       "#biotech                        25\n",
       "#pharma                         25\n",
       "#digitalhealth                  25\n",
       "#marketing                      24\n",
       "#pharmaceutical                 24\n",
       "#MedEd                          23\n",
       "#TipsForNewDocs                 21\n",
       "#vaccine                        18\n",
       "#hiring                         18\n",
       "#Health                         18\n",
       "#MachineLearning                17\n",
       "#medicare                       16\n",
       "#competitivemarketing           16\n",
       "#WomenInMedicine                16\n",
       "#coronavirus                    16\n",
       "#telehealth                     14\n",
       "#news                           14\n",
       "#DoctorofVeterinaryMedicine     14\n",
       "#PatientCare                    13\n",
       "#NEW                            13\n",
       "#FOAMed                         13\n",
       "#telemedicine                   12\n",
       "#doctor                         11\n",
       "#covid                          11\n",
       "#Python                         11\n",
       "#Nodejs                         10\n",
       "#education                      10\n",
       "#100daysofmlcode                10\n",
       "#science                        10\n",
       "#Chicago                        10\n",
       "#nursing                        10\n",
       "#vaccines                       10\n",
       "#saskatchewan                   10\n",
       "#RStats                         10\n",
       "#nurses                         10\n",
       "#hospitals                      10\n",
       "#HTML5                          10\n",
       "#insurance                      10\n",
       "#pandemic                       10\n",
       "dtype: int64"
      ]
     },
     "execution_count": 178,
     "metadata": {},
     "output_type": "execute_result"
    }
   ],
   "source": [
    "# print hashtag occurrences\n",
    "\n",
    "df_2.stack().value_counts().head(50)"
   ]
  },
  {
   "cell_type": "code",
   "execution_count": 161,
   "id": "2df6e43c",
   "metadata": {},
   "outputs": [
    {
     "data": {
      "text/html": [
       "<div>\n",
       "<style scoped>\n",
       "    .dataframe tbody tr th:only-of-type {\n",
       "        vertical-align: middle;\n",
       "    }\n",
       "\n",
       "    .dataframe tbody tr th {\n",
       "        vertical-align: top;\n",
       "    }\n",
       "\n",
       "    .dataframe thead th {\n",
       "        text-align: right;\n",
       "    }\n",
       "</style>\n",
       "<table border=\"1\" class=\"dataframe\">\n",
       "  <thead>\n",
       "    <tr style=\"text-align: right;\">\n",
       "      <th></th>\n",
       "      <th>tweet_id</th>\n",
       "      <th>0</th>\n",
       "      <th>1</th>\n",
       "      <th>2</th>\n",
       "      <th>3</th>\n",
       "      <th>4</th>\n",
       "      <th>5</th>\n",
       "      <th>6</th>\n",
       "      <th>7</th>\n",
       "      <th>8</th>\n",
       "      <th>...</th>\n",
       "      <th>14</th>\n",
       "      <th>15</th>\n",
       "      <th>16</th>\n",
       "      <th>17</th>\n",
       "      <th>18</th>\n",
       "      <th>19</th>\n",
       "      <th>20</th>\n",
       "      <th>21</th>\n",
       "      <th>22</th>\n",
       "      <th>23</th>\n",
       "    </tr>\n",
       "  </thead>\n",
       "  <tbody>\n",
       "    <tr>\n",
       "      <th>0</th>\n",
       "      <td>1567629223795527681</td>\n",
       "      <td>#Healthcare</td>\n",
       "      <td>None</td>\n",
       "      <td>None</td>\n",
       "      <td>None</td>\n",
       "      <td>None</td>\n",
       "      <td>None</td>\n",
       "      <td>None</td>\n",
       "      <td>None</td>\n",
       "      <td>None</td>\n",
       "      <td>...</td>\n",
       "      <td>None</td>\n",
       "      <td>None</td>\n",
       "      <td>None</td>\n",
       "      <td>None</td>\n",
       "      <td>None</td>\n",
       "      <td>None</td>\n",
       "      <td>None</td>\n",
       "      <td>None</td>\n",
       "      <td>None</td>\n",
       "      <td>None</td>\n",
       "    </tr>\n",
       "    <tr>\n",
       "      <th>1</th>\n",
       "      <td>1567582846612553728</td>\n",
       "      <td>#PremiseHealth</td>\n",
       "      <td>#hiring</td>\n",
       "      <td>None</td>\n",
       "      <td>None</td>\n",
       "      <td>None</td>\n",
       "      <td>None</td>\n",
       "      <td>None</td>\n",
       "      <td>None</td>\n",
       "      <td>None</td>\n",
       "      <td>...</td>\n",
       "      <td>None</td>\n",
       "      <td>None</td>\n",
       "      <td>None</td>\n",
       "      <td>None</td>\n",
       "      <td>None</td>\n",
       "      <td>None</td>\n",
       "      <td>None</td>\n",
       "      <td>None</td>\n",
       "      <td>None</td>\n",
       "      <td>None</td>\n",
       "    </tr>\n",
       "    <tr>\n",
       "      <th>2</th>\n",
       "      <td>1567582787070304256</td>\n",
       "      <td>#Healthcare</td>\n",
       "      <td>None</td>\n",
       "      <td>None</td>\n",
       "      <td>None</td>\n",
       "      <td>None</td>\n",
       "      <td>None</td>\n",
       "      <td>None</td>\n",
       "      <td>None</td>\n",
       "      <td>None</td>\n",
       "      <td>...</td>\n",
       "      <td>None</td>\n",
       "      <td>None</td>\n",
       "      <td>None</td>\n",
       "      <td>None</td>\n",
       "      <td>None</td>\n",
       "      <td>None</td>\n",
       "      <td>None</td>\n",
       "      <td>None</td>\n",
       "      <td>None</td>\n",
       "      <td>None</td>\n",
       "    </tr>\n",
       "    <tr>\n",
       "      <th>3</th>\n",
       "      <td>1567582767625428992</td>\n",
       "      <td>#NEW</td>\n",
       "      <td>None</td>\n",
       "      <td>None</td>\n",
       "      <td>None</td>\n",
       "      <td>None</td>\n",
       "      <td>None</td>\n",
       "      <td>None</td>\n",
       "      <td>None</td>\n",
       "      <td>None</td>\n",
       "      <td>...</td>\n",
       "      <td>None</td>\n",
       "      <td>None</td>\n",
       "      <td>None</td>\n",
       "      <td>None</td>\n",
       "      <td>None</td>\n",
       "      <td>None</td>\n",
       "      <td>None</td>\n",
       "      <td>None</td>\n",
       "      <td>None</td>\n",
       "      <td>None</td>\n",
       "    </tr>\n",
       "    <tr>\n",
       "      <th>4</th>\n",
       "      <td>1567582720460570625</td>\n",
       "      <td>#blogs</td>\n",
       "      <td>#digitaltransformation</td>\n",
       "      <td>#cybersecurity</td>\n",
       "      <td>#accounting</td>\n",
       "      <td>#finance</td>\n",
       "      <td>#healthcare</td>\n",
       "      <td>None</td>\n",
       "      <td>None</td>\n",
       "      <td>None</td>\n",
       "      <td>...</td>\n",
       "      <td>None</td>\n",
       "      <td>None</td>\n",
       "      <td>None</td>\n",
       "      <td>None</td>\n",
       "      <td>None</td>\n",
       "      <td>None</td>\n",
       "      <td>None</td>\n",
       "      <td>None</td>\n",
       "      <td>None</td>\n",
       "      <td>None</td>\n",
       "    </tr>\n",
       "  </tbody>\n",
       "</table>\n",
       "<p>5 rows × 25 columns</p>\n",
       "</div>"
      ],
      "text/plain": [
       "              tweet_id               0                       1  \\\n",
       "0  1567629223795527681     #Healthcare                    None   \n",
       "1  1567582846612553728  #PremiseHealth                 #hiring   \n",
       "2  1567582787070304256     #Healthcare                    None   \n",
       "3  1567582767625428992            #NEW                    None   \n",
       "4  1567582720460570625          #blogs  #digitaltransformation   \n",
       "\n",
       "                2            3         4            5     6     7     8  ...  \\\n",
       "0            None         None      None         None  None  None  None  ...   \n",
       "1            None         None      None         None  None  None  None  ...   \n",
       "2            None         None      None         None  None  None  None  ...   \n",
       "3            None         None      None         None  None  None  None  ...   \n",
       "4  #cybersecurity  #accounting  #finance  #healthcare  None  None  None  ...   \n",
       "\n",
       "     14    15    16    17    18    19    20    21    22    23  \n",
       "0  None  None  None  None  None  None  None  None  None  None  \n",
       "1  None  None  None  None  None  None  None  None  None  None  \n",
       "2  None  None  None  None  None  None  None  None  None  None  \n",
       "3  None  None  None  None  None  None  None  None  None  None  \n",
       "4  None  None  None  None  None  None  None  None  None  None  \n",
       "\n",
       "[5 rows x 25 columns]"
      ]
     },
     "execution_count": 161,
     "metadata": {},
     "output_type": "execute_result"
    }
   ],
   "source": [
    "# renaming the columns\n",
    "df_2.rename(columns={'0':'word','':'count'},inplace=True) \n",
    "\n",
    "df_2.head()"
   ]
  },
  {
   "cell_type": "markdown",
   "id": "5534d8ff",
   "metadata": {},
   "source": [
    "# "
   ]
  },
  {
   "cell_type": "markdown",
   "id": "c04eb259",
   "metadata": {},
   "source": [
    "# Assignment activity 6"
   ]
  },
  {
   "cell_type": "markdown",
   "id": "9579ccd5",
   "metadata": {},
   "source": [
    "### Investigate the main cencerns posed by the NHS. "
   ]
  },
  {
   "cell_type": "code",
   "execution_count": 49,
   "id": "9e21e577",
   "metadata": {},
   "outputs": [
    {
     "data": {
      "text/plain": [
       "(596821, 7)"
      ]
     },
     "execution_count": 49,
     "metadata": {},
     "output_type": "execute_result"
    }
   ],
   "source": [
    "# Prepare your workstation.\n",
    "# Load the appointments_regional.csv file.\n",
    "import pandas as pd \n",
    "import numpy as np \n",
    "import IPython.display as display \n",
    "\n",
    "ar2=pd.read_csv('appointments_regional.csv')\n",
    " \n",
    "\n",
    "# View the DataFrame.\n",
    "ar2.shape"
   ]
  },
  {
   "cell_type": "code",
   "execution_count": 50,
   "id": "aa149fa5",
   "metadata": {},
   "outputs": [
    {
     "data": {
      "text/plain": [
       "Index(['icb_ons_code', 'appointment_month', 'appointment_status', 'hcp_type',\n",
       "       'appointment_mode', 'time_between_book_and_appointment',\n",
       "       'count_of_appointments'],\n",
       "      dtype='object')"
      ]
     },
     "execution_count": 50,
     "metadata": {},
     "output_type": "execute_result"
    }
   ],
   "source": [
    "ar2.columns"
   ]
  },
  {
   "cell_type": "code",
   "execution_count": 51,
   "id": "bf3a9f79",
   "metadata": {},
   "outputs": [
    {
     "data": {
      "text/plain": [
       "icb_ons_code                         object\n",
       "appointment_month                    object\n",
       "appointment_status                   object\n",
       "hcp_type                             object\n",
       "appointment_mode                     object\n",
       "time_between_book_and_appointment    object\n",
       "count_of_appointments                 int64\n",
       "dtype: object"
      ]
     },
     "execution_count": 51,
     "metadata": {},
     "output_type": "execute_result"
    }
   ],
   "source": [
    "ar2.dtypes"
   ]
  },
  {
   "cell_type": "code",
   "execution_count": 184,
   "id": "580ed8c0",
   "metadata": {},
   "outputs": [
    {
     "data": {
      "text/plain": [
       "(<bound method NDFrame._add_numeric_operations.<locals>.min of 0    2020-01-01\n",
       " 1    2020-02-01\n",
       " 2    2020-03-01\n",
       " 3    2020-04-01\n",
       " 4    2020-05-01\n",
       " 5    2020-06-01\n",
       " 6    2020-07-01\n",
       " 7    2020-08-01\n",
       " 8    2020-09-01\n",
       " 9    2020-10-01\n",
       " 10   2020-11-01\n",
       " 11   2020-12-01\n",
       " 12   2021-01-01\n",
       " 13   2021-02-01\n",
       " 14   2021-03-01\n",
       " 15   2021-04-01\n",
       " 16   2021-05-01\n",
       " 17   2021-06-01\n",
       " 18   2021-07-01\n",
       " 19   2021-08-01\n",
       " 20   2021-09-01\n",
       " 21   2021-10-01\n",
       " 22   2021-11-01\n",
       " 23   2021-12-01\n",
       " 24   2022-01-01\n",
       " 25   2022-02-01\n",
       " 26   2022-03-01\n",
       " 27   2022-04-01\n",
       " 28   2022-05-01\n",
       " 29   2022-06-01\n",
       " Name: appointment_month, dtype: datetime64[ns]>,\n",
       " Timestamp('2022-06-01 00:00:00'))"
      ]
     },
     "execution_count": 184,
     "metadata": {},
     "output_type": "execute_result"
    }
   ],
   "source": [
    "# Print the min and max dates.\n",
    "ar2 ['appointment_month'].min, ar2['appointment_month'].max()"
   ]
  },
  {
   "cell_type": "markdown",
   "id": "d6e4b4d8",
   "metadata": {},
   "source": [
    "**Question 1:** Should the NHS start looking at increasing staff levels? "
   ]
  },
  {
   "cell_type": "code",
   "execution_count": 52,
   "id": "00805db8",
   "metadata": {},
   "outputs": [],
   "source": [
    "# Change appointment month to datetime\n",
    "ar2['appointment_month'] = pd.to_datetime(ar2['appointment_month'])"
   ]
  },
  {
   "cell_type": "code",
   "execution_count": 53,
   "id": "613e864c",
   "metadata": {},
   "outputs": [
    {
     "name": "stdout",
     "output_type": "stream",
     "text": [
      "<pandas.core.groupby.generic.DataFrameGroupBy object at 0x7f9070452730>\n"
     ]
    }
   ],
   "source": [
    "appointment_month = ar2.groupby('appointment_month')\n",
    "print(appointment_month)"
   ]
  },
  {
   "cell_type": "code",
   "execution_count": 183,
   "id": "d022319d",
   "metadata": {},
   "outputs": [
    {
     "data": {
      "text/html": [
       "<div>\n",
       "<style scoped>\n",
       "    .dataframe tbody tr th:only-of-type {\n",
       "        vertical-align: middle;\n",
       "    }\n",
       "\n",
       "    .dataframe tbody tr th {\n",
       "        vertical-align: top;\n",
       "    }\n",
       "\n",
       "    .dataframe thead th {\n",
       "        text-align: right;\n",
       "    }\n",
       "</style>\n",
       "<table border=\"1\" class=\"dataframe\">\n",
       "  <thead>\n",
       "    <tr style=\"text-align: right;\">\n",
       "      <th></th>\n",
       "      <th>count_of_appointments</th>\n",
       "    </tr>\n",
       "    <tr>\n",
       "      <th>appointment_month</th>\n",
       "      <th></th>\n",
       "    </tr>\n",
       "  </thead>\n",
       "  <tbody>\n",
       "    <tr>\n",
       "      <th>2020-01-01</th>\n",
       "      <td>27199296</td>\n",
       "    </tr>\n",
       "    <tr>\n",
       "      <th>2020-02-01</th>\n",
       "      <td>24104621</td>\n",
       "    </tr>\n",
       "    <tr>\n",
       "      <th>2020-03-01</th>\n",
       "      <td>24053468</td>\n",
       "    </tr>\n",
       "    <tr>\n",
       "      <th>2020-04-01</th>\n",
       "      <td>16007881</td>\n",
       "    </tr>\n",
       "    <tr>\n",
       "      <th>2020-05-01</th>\n",
       "      <td>16417212</td>\n",
       "    </tr>\n",
       "    <tr>\n",
       "      <th>2020-06-01</th>\n",
       "      <td>20690805</td>\n",
       "    </tr>\n",
       "    <tr>\n",
       "      <th>2020-07-01</th>\n",
       "      <td>22491437</td>\n",
       "    </tr>\n",
       "    <tr>\n",
       "      <th>2020-08-01</th>\n",
       "      <td>20150520</td>\n",
       "    </tr>\n",
       "    <tr>\n",
       "      <th>2020-09-01</th>\n",
       "      <td>26714255</td>\n",
       "    </tr>\n",
       "    <tr>\n",
       "      <th>2020-10-01</th>\n",
       "      <td>28301932</td>\n",
       "    </tr>\n",
       "    <tr>\n",
       "      <th>2020-11-01</th>\n",
       "      <td>25061602</td>\n",
       "    </tr>\n",
       "    <tr>\n",
       "      <th>2020-12-01</th>\n",
       "      <td>23535936</td>\n",
       "    </tr>\n",
       "    <tr>\n",
       "      <th>2021-01-01</th>\n",
       "      <td>22492069</td>\n",
       "    </tr>\n",
       "    <tr>\n",
       "      <th>2021-02-01</th>\n",
       "      <td>22399569</td>\n",
       "    </tr>\n",
       "    <tr>\n",
       "      <th>2021-03-01</th>\n",
       "      <td>27225424</td>\n",
       "    </tr>\n",
       "    <tr>\n",
       "      <th>2021-04-01</th>\n",
       "      <td>23879932</td>\n",
       "    </tr>\n",
       "    <tr>\n",
       "      <th>2021-05-01</th>\n",
       "      <td>23508395</td>\n",
       "    </tr>\n",
       "    <tr>\n",
       "      <th>2021-06-01</th>\n",
       "      <td>26784182</td>\n",
       "    </tr>\n",
       "    <tr>\n",
       "      <th>2021-07-01</th>\n",
       "      <td>25739219</td>\n",
       "    </tr>\n",
       "    <tr>\n",
       "      <th>2021-08-01</th>\n",
       "      <td>23852171</td>\n",
       "    </tr>\n",
       "    <tr>\n",
       "      <th>2021-09-01</th>\n",
       "      <td>28522501</td>\n",
       "    </tr>\n",
       "    <tr>\n",
       "      <th>2021-10-01</th>\n",
       "      <td>30303834</td>\n",
       "    </tr>\n",
       "    <tr>\n",
       "      <th>2021-11-01</th>\n",
       "      <td>30405070</td>\n",
       "    </tr>\n",
       "    <tr>\n",
       "      <th>2021-12-01</th>\n",
       "      <td>25140776</td>\n",
       "    </tr>\n",
       "    <tr>\n",
       "      <th>2022-01-01</th>\n",
       "      <td>25635474</td>\n",
       "    </tr>\n",
       "    <tr>\n",
       "      <th>2022-02-01</th>\n",
       "      <td>25355260</td>\n",
       "    </tr>\n",
       "    <tr>\n",
       "      <th>2022-03-01</th>\n",
       "      <td>29595038</td>\n",
       "    </tr>\n",
       "    <tr>\n",
       "      <th>2022-04-01</th>\n",
       "      <td>23913060</td>\n",
       "    </tr>\n",
       "    <tr>\n",
       "      <th>2022-05-01</th>\n",
       "      <td>27495508</td>\n",
       "    </tr>\n",
       "    <tr>\n",
       "      <th>2022-06-01</th>\n",
       "      <td>25828078</td>\n",
       "    </tr>\n",
       "  </tbody>\n",
       "</table>\n",
       "</div>"
      ],
      "text/plain": [
       "                   count_of_appointments\n",
       "appointment_month                       \n",
       "2020-01-01                      27199296\n",
       "2020-02-01                      24104621\n",
       "2020-03-01                      24053468\n",
       "2020-04-01                      16007881\n",
       "2020-05-01                      16417212\n",
       "2020-06-01                      20690805\n",
       "2020-07-01                      22491437\n",
       "2020-08-01                      20150520\n",
       "2020-09-01                      26714255\n",
       "2020-10-01                      28301932\n",
       "2020-11-01                      25061602\n",
       "2020-12-01                      23535936\n",
       "2021-01-01                      22492069\n",
       "2021-02-01                      22399569\n",
       "2021-03-01                      27225424\n",
       "2021-04-01                      23879932\n",
       "2021-05-01                      23508395\n",
       "2021-06-01                      26784182\n",
       "2021-07-01                      25739219\n",
       "2021-08-01                      23852171\n",
       "2021-09-01                      28522501\n",
       "2021-10-01                      30303834\n",
       "2021-11-01                      30405070\n",
       "2021-12-01                      25140776\n",
       "2022-01-01                      25635474\n",
       "2022-02-01                      25355260\n",
       "2022-03-01                      29595038\n",
       "2022-04-01                      23913060\n",
       "2022-05-01                      27495508\n",
       "2022-06-01                      25828078"
      ]
     },
     "execution_count": 183,
     "metadata": {},
     "output_type": "execute_result"
    }
   ],
   "source": [
    "# Determine the total number of appointments per month.\n",
    "appointment_month.sum()"
   ]
  },
  {
   "cell_type": "code",
   "execution_count": 55,
   "id": "7bd41860",
   "metadata": {},
   "outputs": [],
   "source": [
    "# change appointment month to string\n",
    "ar2['appointment_month'] = ar2['appointment_month'].astype('|S')"
   ]
  },
  {
   "cell_type": "code",
   "execution_count": 56,
   "id": "76d9e2c2",
   "metadata": {},
   "outputs": [
    {
     "data": {
      "text/plain": [
       "<AxesSubplot:xlabel='appointment_month', ylabel='count_of_appointments'>"
      ]
     },
     "execution_count": 56,
     "metadata": {},
     "output_type": "execute_result"
    },
    {
     "data": {
      "image/png": "[encoded data removed]",
      "text/plain": [
       "<Figure size 1080x864 with 1 Axes>"
      ]
     },
     "metadata": {},
     "output_type": "display_data"
    }
   ],
   "source": [
    "# Plot sum of count of monthly visits.\n",
    "# Create a lineplot with Seaborn.\n",
    "sns.lineplot(x='appointment_month', y='count_of_appointments', data=ar2)"
   ]
  },
  {
   "cell_type": "markdown",
   "id": "eb893b06",
   "metadata": {},
   "source": [
    "**Question 2:** How do the healthcare professional types differ over time?"
   ]
  },
  {
   "cell_type": "code",
   "execution_count": 38,
   "id": "4179ad07",
   "metadata": {},
   "outputs": [
    {
     "data": {
      "image/png": "[encoded data removed]",
      "text/plain": [
       "<Figure size 1080x864 with 1 Axes>"
      ]
     },
     "metadata": {},
     "output_type": "display_data"
    }
   ],
   "source": [
    "# Create a line plot to answer the question.\n",
    "import seaborn as sns\n",
    "import matplotlib.pyplot as plt\n",
    "\n",
    "# Set figure size.\n",
    "sns.set(rc={'figure.figsize': (15, 12)})\n",
    "\n",
    "# Set the plot style as white.\n",
    "sns.set_style('white')\n",
    "\n",
    "# Create a lineplot with Seaborn.\n",
    "sns.lineplot(x='appointment_month', y='count_of_appointments',\n",
    "             hue='hcp_type', data=ar)\n",
    "plt.show()"
   ]
  },
  {
   "cell_type": "markdown",
   "id": "f3521285",
   "metadata": {},
   "source": [
    "# "
   ]
  },
  {
   "cell_type": "markdown",
   "id": "fdd46686",
   "metadata": {},
   "source": [
    "### Provide a summary of your findings and recommendations based on the analysis."
   ]
  },
  {
   "cell_type": "markdown",
   "id": "afb38a10",
   "metadata": {},
   "source": [
    "> Double click to insert your summary."
   ]
  },
  {
   "cell_type": "code",
   "execution_count": null,
   "id": "4ee5f149",
   "metadata": {},
   "outputs": [],
   "source": []
  }
 ],
 "metadata": {
  "kernelspec": {
   "display_name": "Python 3 (ipykernel)",
   "language": "python",
   "name": "python3"
  },
  "language_info": {
   "codemirror_mode": {
    "name": "ipython",
    "version": 3
   },
   "file_extension": ".py",
   "mimetype": "text/x-python",
   "name": "python",
   "nbconvert_exporter": "python",
   "pygments_lexer": "ipython3",
   "version": "3.9.12"
  }
 },
 "nbformat": 4,
 "nbformat_minor": 5
}
